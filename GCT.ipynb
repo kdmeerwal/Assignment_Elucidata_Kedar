{
 "cells": [
  {
   "cell_type": "markdown",
   "metadata": {},
   "source": [
    "# Checking for Required packages"
   ]
  },
  {
   "cell_type": "code",
   "execution_count": 1,
   "metadata": {},
   "outputs": [
    {
     "data": {
      "text/plain": [
       "'4.0.1'"
      ]
     },
     "execution_count": 1,
     "metadata": {},
     "output_type": "execute_result"
    }
   ],
   "source": [
    "import pkg_resources\n",
    "pkg_resources.get_distribution(\"cmapPy\").version"
   ]
  },
  {
   "cell_type": "code",
   "execution_count": 2,
   "metadata": {},
   "outputs": [
    {
     "data": {
      "text/plain": [
       "'0.10.0'"
      ]
     },
     "execution_count": 2,
     "metadata": {},
     "output_type": "execute_result"
    }
   ],
   "source": [
    "pkg_resources.get_distribution(\"seaborn\").version"
   ]
  },
  {
   "cell_type": "code",
   "execution_count": 3,
   "metadata": {},
   "outputs": [
    {
     "name": "stdout",
     "output_type": "stream",
     "text": [
      "0.22.2.post1\n"
     ]
    }
   ],
   "source": [
    "import sklearn\n",
    "print (sklearn.__version__)"
   ]
  },
  {
   "cell_type": "markdown",
   "metadata": {},
   "source": [
    "# Reading the GCT file"
   ]
  },
  {
   "cell_type": "code",
   "execution_count": 4,
   "metadata": {},
   "outputs": [
    {
     "name": "stderr",
     "output_type": "stream",
     "text": [
      "C:\\Users\\Kedar\\Anaconda3\\lib\\site-packages\\h5py\\__init__.py:36: FutureWarning: Conversion of the second argument of issubdtype from `float` to `np.floating` is deprecated. In future, it will be treated as `np.float64 == np.dtype(float).type`.\n",
      "  from ._conv import register_converters as _register_converters\n"
     ]
    }
   ],
   "source": [
    "from cmapPy.pandasGEXpress.parse import parse\n",
    "filepath = \"PAAD.gct\"\n",
    "data = parse(filepath)"
   ]
  },
  {
   "cell_type": "code",
   "execution_count": 5,
   "metadata": {},
   "outputs": [],
   "source": [
    "# Read all portion of data\n",
    "columns_data = data.col_metadata_df\n",
    "rows_data = data.row_metadata_df\n",
    "genes_data = data.data_df"
   ]
  },
  {
   "cell_type": "code",
   "execution_count": 6,
   "metadata": {},
   "outputs": [
    {
     "data": {
      "text/html": [
       "<div>\n",
       "<style scoped>\n",
       "    .dataframe tbody tr th:only-of-type {\n",
       "        vertical-align: middle;\n",
       "    }\n",
       "\n",
       "    .dataframe tbody tr th {\n",
       "        vertical-align: top;\n",
       "    }\n",
       "\n",
       "    .dataframe thead th {\n",
       "        text-align: right;\n",
       "    }\n",
       "</style>\n",
       "<table border=\"1\" class=\"dataframe\">\n",
       "  <thead>\n",
       "    <tr style=\"text-align: right;\">\n",
       "      <th>chd</th>\n",
       "      <th>participant_id</th>\n",
       "      <th>sample_type</th>\n",
       "      <th>mRNAseq_cluster</th>\n",
       "      <th>bcr_patient_barcode</th>\n",
       "      <th>bcr_patient_uuid</th>\n",
       "      <th>vital_status</th>\n",
       "      <th>days_to_death</th>\n",
       "      <th>days_to_last_followup</th>\n",
       "      <th>additional_studies</th>\n",
       "      <th>adenocarcinoma_invasion</th>\n",
       "      <th>...</th>\n",
       "      <th>tobacco_smoking_history</th>\n",
       "      <th>total_dose</th>\n",
       "      <th>total_dose_units</th>\n",
       "      <th>tumor_tissue_site</th>\n",
       "      <th>tumor_type</th>\n",
       "      <th>withdrawn</th>\n",
       "      <th>year_of_dcc_upload</th>\n",
       "      <th>year_of_form_completion</th>\n",
       "      <th>year_of_initial_pathologic_diagnosis</th>\n",
       "      <th>year_of_tobacco_smoking_onset</th>\n",
       "    </tr>\n",
       "    <tr>\n",
       "      <th>cid</th>\n",
       "      <th></th>\n",
       "      <th></th>\n",
       "      <th></th>\n",
       "      <th></th>\n",
       "      <th></th>\n",
       "      <th></th>\n",
       "      <th></th>\n",
       "      <th></th>\n",
       "      <th></th>\n",
       "      <th></th>\n",
       "      <th></th>\n",
       "      <th></th>\n",
       "      <th></th>\n",
       "      <th></th>\n",
       "      <th></th>\n",
       "      <th></th>\n",
       "      <th></th>\n",
       "      <th></th>\n",
       "      <th></th>\n",
       "      <th></th>\n",
       "      <th></th>\n",
       "    </tr>\n",
       "  </thead>\n",
       "  <tbody>\n",
       "    <tr>\n",
       "      <th>aab1-Primary solid Tumor</th>\n",
       "      <td>aab1</td>\n",
       "      <td>Primary solid Tumor</td>\n",
       "      <td>1.0</td>\n",
       "      <td>tcga-2j-aab1</td>\n",
       "      <td>75119d1a-93e5-4ae7-9d60-69ee929a0772</td>\n",
       "      <td>dead</td>\n",
       "      <td>66.0</td>\n",
       "      <td>NaN</td>\n",
       "      <td>NaN</td>\n",
       "      <td>yes</td>\n",
       "      <td>...</td>\n",
       "      <td>3.0</td>\n",
       "      <td>NaN</td>\n",
       "      <td>NaN</td>\n",
       "      <td>pancreas</td>\n",
       "      <td>primary</td>\n",
       "      <td>false</td>\n",
       "      <td>2016</td>\n",
       "      <td>2014</td>\n",
       "      <td>2012.0</td>\n",
       "      <td>1962.0</td>\n",
       "    </tr>\n",
       "    <tr>\n",
       "      <th>aab4-Primary solid Tumor</th>\n",
       "      <td>aab4</td>\n",
       "      <td>Primary solid Tumor</td>\n",
       "      <td>2.0</td>\n",
       "      <td>tcga-2j-aab4</td>\n",
       "      <td>33833131-1482-42d5-9cf5-01cade540234</td>\n",
       "      <td>alive</td>\n",
       "      <td>NaN</td>\n",
       "      <td>729.0</td>\n",
       "      <td>NaN</td>\n",
       "      <td>yes</td>\n",
       "      <td>...</td>\n",
       "      <td>5.0</td>\n",
       "      <td>NaN</td>\n",
       "      <td>NaN</td>\n",
       "      <td>pancreas</td>\n",
       "      <td>primary</td>\n",
       "      <td>false</td>\n",
       "      <td>2016</td>\n",
       "      <td>2014</td>\n",
       "      <td>2012.0</td>\n",
       "      <td>NaN</td>\n",
       "    </tr>\n",
       "    <tr>\n",
       "      <th>aab6-Primary solid Tumor</th>\n",
       "      <td>aab6</td>\n",
       "      <td>Primary solid Tumor</td>\n",
       "      <td>3.0</td>\n",
       "      <td>tcga-2j-aab6</td>\n",
       "      <td>70797499-16e6-48cc-8ae4-1e692713dad3</td>\n",
       "      <td>dead</td>\n",
       "      <td>293.0</td>\n",
       "      <td>NaN</td>\n",
       "      <td>NaN</td>\n",
       "      <td>yes</td>\n",
       "      <td>...</td>\n",
       "      <td>NaN</td>\n",
       "      <td>NaN</td>\n",
       "      <td>NaN</td>\n",
       "      <td>pancreas</td>\n",
       "      <td>primary</td>\n",
       "      <td>false</td>\n",
       "      <td>2016</td>\n",
       "      <td>2014</td>\n",
       "      <td>2012.0</td>\n",
       "      <td>NaN</td>\n",
       "    </tr>\n",
       "    <tr>\n",
       "      <th>aab8-Primary solid Tumor</th>\n",
       "      <td>aab8</td>\n",
       "      <td>Primary solid Tumor</td>\n",
       "      <td>1.0</td>\n",
       "      <td>tcga-2j-aab8</td>\n",
       "      <td>2e8f90f4-aed3-43b0-985c-dfdc2581f24f</td>\n",
       "      <td>alive</td>\n",
       "      <td>NaN</td>\n",
       "      <td>80.0</td>\n",
       "      <td>NaN</td>\n",
       "      <td>yes</td>\n",
       "      <td>...</td>\n",
       "      <td>NaN</td>\n",
       "      <td>NaN</td>\n",
       "      <td>NaN</td>\n",
       "      <td>pancreas</td>\n",
       "      <td>primary</td>\n",
       "      <td>false</td>\n",
       "      <td>2016</td>\n",
       "      <td>2014</td>\n",
       "      <td>2012.0</td>\n",
       "      <td>NaN</td>\n",
       "    </tr>\n",
       "    <tr>\n",
       "      <th>aab9-Primary solid Tumor</th>\n",
       "      <td>aab9</td>\n",
       "      <td>Primary solid Tumor</td>\n",
       "      <td>4.0</td>\n",
       "      <td>tcga-2j-aab9</td>\n",
       "      <td>a5748656-5330-417a-8938-01f69ddb3576</td>\n",
       "      <td>dead</td>\n",
       "      <td>627.0</td>\n",
       "      <td>NaN</td>\n",
       "      <td>NaN</td>\n",
       "      <td>yes</td>\n",
       "      <td>...</td>\n",
       "      <td>1.0</td>\n",
       "      <td>NaN</td>\n",
       "      <td>NaN</td>\n",
       "      <td>pancreas</td>\n",
       "      <td>primary</td>\n",
       "      <td>false</td>\n",
       "      <td>2016</td>\n",
       "      <td>2014</td>\n",
       "      <td>2012.0</td>\n",
       "      <td>NaN</td>\n",
       "    </tr>\n",
       "  </tbody>\n",
       "</table>\n",
       "<p>5 rows × 124 columns</p>\n",
       "</div>"
      ],
      "text/plain": [
       "chd                      participant_id          sample_type  mRNAseq_cluster  \\\n",
       "cid                                                                             \n",
       "aab1-Primary solid Tumor           aab1  Primary solid Tumor              1.0   \n",
       "aab4-Primary solid Tumor           aab4  Primary solid Tumor              2.0   \n",
       "aab6-Primary solid Tumor           aab6  Primary solid Tumor              3.0   \n",
       "aab8-Primary solid Tumor           aab8  Primary solid Tumor              1.0   \n",
       "aab9-Primary solid Tumor           aab9  Primary solid Tumor              4.0   \n",
       "\n",
       "chd                      bcr_patient_barcode  \\\n",
       "cid                                            \n",
       "aab1-Primary solid Tumor        tcga-2j-aab1   \n",
       "aab4-Primary solid Tumor        tcga-2j-aab4   \n",
       "aab6-Primary solid Tumor        tcga-2j-aab6   \n",
       "aab8-Primary solid Tumor        tcga-2j-aab8   \n",
       "aab9-Primary solid Tumor        tcga-2j-aab9   \n",
       "\n",
       "chd                                           bcr_patient_uuid vital_status  \\\n",
       "cid                                                                           \n",
       "aab1-Primary solid Tumor  75119d1a-93e5-4ae7-9d60-69ee929a0772         dead   \n",
       "aab4-Primary solid Tumor  33833131-1482-42d5-9cf5-01cade540234        alive   \n",
       "aab6-Primary solid Tumor  70797499-16e6-48cc-8ae4-1e692713dad3         dead   \n",
       "aab8-Primary solid Tumor  2e8f90f4-aed3-43b0-985c-dfdc2581f24f        alive   \n",
       "aab9-Primary solid Tumor  a5748656-5330-417a-8938-01f69ddb3576         dead   \n",
       "\n",
       "chd                       days_to_death  days_to_last_followup  \\\n",
       "cid                                                              \n",
       "aab1-Primary solid Tumor           66.0                    NaN   \n",
       "aab4-Primary solid Tumor            NaN                  729.0   \n",
       "aab6-Primary solid Tumor          293.0                    NaN   \n",
       "aab8-Primary solid Tumor            NaN                   80.0   \n",
       "aab9-Primary solid Tumor          627.0                    NaN   \n",
       "\n",
       "chd                       additional_studies adenocarcinoma_invasion  ...  \\\n",
       "cid                                                                   ...   \n",
       "aab1-Primary solid Tumor                 NaN                     yes  ...   \n",
       "aab4-Primary solid Tumor                 NaN                     yes  ...   \n",
       "aab6-Primary solid Tumor                 NaN                     yes  ...   \n",
       "aab8-Primary solid Tumor                 NaN                     yes  ...   \n",
       "aab9-Primary solid Tumor                 NaN                     yes  ...   \n",
       "\n",
       "chd                       tobacco_smoking_history total_dose total_dose_units  \\\n",
       "cid                                                                             \n",
       "aab1-Primary solid Tumor                      3.0        NaN              NaN   \n",
       "aab4-Primary solid Tumor                      5.0        NaN              NaN   \n",
       "aab6-Primary solid Tumor                      NaN        NaN              NaN   \n",
       "aab8-Primary solid Tumor                      NaN        NaN              NaN   \n",
       "aab9-Primary solid Tumor                      1.0        NaN              NaN   \n",
       "\n",
       "chd                       tumor_tissue_site tumor_type withdrawn  \\\n",
       "cid                                                                \n",
       "aab1-Primary solid Tumor           pancreas    primary     false   \n",
       "aab4-Primary solid Tumor           pancreas    primary     false   \n",
       "aab6-Primary solid Tumor           pancreas    primary     false   \n",
       "aab8-Primary solid Tumor           pancreas    primary     false   \n",
       "aab9-Primary solid Tumor           pancreas    primary     false   \n",
       "\n",
       "chd                       year_of_dcc_upload year_of_form_completion  \\\n",
       "cid                                                                    \n",
       "aab1-Primary solid Tumor                2016                    2014   \n",
       "aab4-Primary solid Tumor                2016                    2014   \n",
       "aab6-Primary solid Tumor                2016                    2014   \n",
       "aab8-Primary solid Tumor                2016                    2014   \n",
       "aab9-Primary solid Tumor                2016                    2014   \n",
       "\n",
       "chd                      year_of_initial_pathologic_diagnosis  \\\n",
       "cid                                                             \n",
       "aab1-Primary solid Tumor                               2012.0   \n",
       "aab4-Primary solid Tumor                               2012.0   \n",
       "aab6-Primary solid Tumor                               2012.0   \n",
       "aab8-Primary solid Tumor                               2012.0   \n",
       "aab9-Primary solid Tumor                               2012.0   \n",
       "\n",
       "chd                      year_of_tobacco_smoking_onset  \n",
       "cid                                                     \n",
       "aab1-Primary solid Tumor                        1962.0  \n",
       "aab4-Primary solid Tumor                           NaN  \n",
       "aab6-Primary solid Tumor                           NaN  \n",
       "aab8-Primary solid Tumor                           NaN  \n",
       "aab9-Primary solid Tumor                           NaN  \n",
       "\n",
       "[5 rows x 124 columns]"
      ]
     },
     "execution_count": 6,
     "metadata": {},
     "output_type": "execute_result"
    }
   ],
   "source": [
    "columns_data.head()"
   ]
  },
  {
   "cell_type": "code",
   "execution_count": 7,
   "metadata": {
    "scrolled": true
   },
   "outputs": [
    {
     "data": {
      "text/html": [
       "<div>\n",
       "<style scoped>\n",
       "    .dataframe tbody tr th:only-of-type {\n",
       "        vertical-align: middle;\n",
       "    }\n",
       "\n",
       "    .dataframe tbody tr th {\n",
       "        vertical-align: top;\n",
       "    }\n",
       "\n",
       "    .dataframe thead th {\n",
       "        text-align: right;\n",
       "    }\n",
       "</style>\n",
       "<table border=\"1\" class=\"dataframe\">\n",
       "  <thead>\n",
       "    <tr style=\"text-align: right;\">\n",
       "      <th>rhd</th>\n",
       "    </tr>\n",
       "    <tr>\n",
       "      <th>rid</th>\n",
       "    </tr>\n",
       "  </thead>\n",
       "  <tbody>\n",
       "    <tr>\n",
       "      <th>SLC35E2</th>\n",
       "    </tr>\n",
       "    <tr>\n",
       "      <th>A1BG</th>\n",
       "    </tr>\n",
       "    <tr>\n",
       "      <th>A1CF</th>\n",
       "    </tr>\n",
       "    <tr>\n",
       "      <th>A2BP1</th>\n",
       "    </tr>\n",
       "    <tr>\n",
       "      <th>A2LD1</th>\n",
       "    </tr>\n",
       "  </tbody>\n",
       "</table>\n",
       "</div>"
      ],
      "text/plain": [
       "Empty DataFrame\n",
       "Columns: []\n",
       "Index: [SLC35E2, A1BG, A1CF, A2BP1, A2LD1]"
      ]
     },
     "execution_count": 7,
     "metadata": {},
     "output_type": "execute_result"
    }
   ],
   "source": [
    "rows_data.head()"
   ]
  },
  {
   "cell_type": "code",
   "execution_count": 8,
   "metadata": {},
   "outputs": [
    {
     "data": {
      "text/plain": [
       "(183, 124)"
      ]
     },
     "execution_count": 8,
     "metadata": {},
     "output_type": "execute_result"
    }
   ],
   "source": [
    "columns_data.shape"
   ]
  },
  {
   "cell_type": "code",
   "execution_count": 9,
   "metadata": {},
   "outputs": [
    {
     "data": {
      "text/plain": [
       "(18465, 0)"
      ]
     },
     "execution_count": 9,
     "metadata": {},
     "output_type": "execute_result"
    }
   ],
   "source": [
    "rows_data.shape"
   ]
  },
  {
   "cell_type": "markdown",
   "metadata": {},
   "source": [
    "# Missing Values"
   ]
  },
  {
   "cell_type": "code",
   "execution_count": 10,
   "metadata": {},
   "outputs": [],
   "source": [
    "import numpy as np\n",
    "import pandas as pd \n",
    "import matplotlib.pyplot as plt\n",
    "import seaborn as sns"
   ]
  },
  {
   "cell_type": "code",
   "execution_count": 11,
   "metadata": {},
   "outputs": [
    {
     "name": "stdout",
     "output_type": "stream",
     "text": [
      "Total 86 columns have missing value, and Total 9659 missing values in dataset\n"
     ]
    },
    {
     "data": {
      "text/plain": [
       "<matplotlib.axes._subplots.AxesSubplot at 0x8c2671c438>"
      ]
     },
     "execution_count": 11,
     "metadata": {},
     "output_type": "execute_result"
    },
    {
     "data": {
      "image/png": "[encoded data removed]",
      "text/plain": [
       "<Figure size 864x576 with 1 Axes>"
      ]
     },
     "metadata": {
      "needs_background": "light"
     },
     "output_type": "display_data"
    }
   ],
   "source": [
    "# Number of missing values in each column of columns_data\n",
    "missing_val_count = (columns_data.isnull().sum()).sort_values(ascending=False)\n",
    "Total_columns_missing_value = missing_val_count[missing_val_count > 0]\n",
    "\n",
    "print(f\"Total {len(Total_columns_missing_value)} columns have missing value, and\",\n",
    "      f\"Total {Total_columns_missing_value.sum()} missing values in dataset\")\n",
    "plt.figure(figsize=(12, 8))\n",
    "sns.countplot(data=Total_columns_missing_value, y= Total_columns_missing_value)"
   ]
  },
  {
   "cell_type": "code",
   "execution_count": 12,
   "metadata": {},
   "outputs": [
    {
     "name": "stdout",
     "output_type": "stream",
     "text": [
      "participant_id:   178 unique values:\n",
      "sample_type:   3 unique values:\n",
      "mRNAseq_cluster:   6 unique values:\n",
      "bcr_patient_barcode:   178 unique values:\n",
      "bcr_patient_uuid:   178 unique values:\n",
      "vital_status:   2 unique values:\n",
      "days_to_death:   90 unique values:\n",
      "days_to_last_followup:   85 unique values:\n",
      "additional_studies:   1 unique values:\n",
      "adenocarcinoma_invasion:   2 unique values:\n",
      "age_at_initial_pathologic_diagnosis:   45 unique values:\n",
      "alcohol_history_documented:   3 unique values:\n",
      "alcoholic_exposure_category:   6 unique values:\n",
      "amount_of_alcohol_consumption_per_day:   7 unique values:\n",
      "anatomic_neoplasm_subdivision:   4 unique values:\n",
      "anatomic_neoplasm_subdivision_other:   11 unique values:\n",
      "b_symptoms:   1 unique values:\n",
      "bcr:   1 unique values:\n",
      "bcr_aliquot_uuid:   178 unique values:\n",
      "bcr_canonical_reason-2:   2 unique values:\n",
      "bcr_canonical_reason-3:   2 unique values:\n",
      "bcr_canonical_reason:   4 unique values:\n",
      "bcr_followup_barcode:   151 unique values:\n",
      "bcr_followup_uuid:   151 unique values:\n",
      "bcr_patient_canonical_status:   2 unique values:\n",
      "clinical_m:   1 unique values:\n",
      "clinical_n:   1 unique values:\n",
      "clinical_stage:   1 unique values:\n",
      "clinical_t:   1 unique values:\n",
      "course_number:   1 unique values:\n",
      "day_of_dcc_upload:   1 unique values:\n",
      "day_of_form_completion:   30 unique values:\n",
      "days_to_birth:   177 unique values:\n",
      "days_to_diabetes_onset:   15 unique values:\n",
      "days_to_index:   2 unique values:\n",
      "days_to_initial_pathologic_diagnosis:   2 unique values:\n",
      "days_to_pancreatitis_onset:   12 unique values:\n",
      "days_to_psa:   1 unique values:\n",
      "disease_code:   1 unique values:\n",
      "drugs:   1 unique values:\n",
      "ethnicity:   3 unique values:\n",
      "extranodal_involvement:   1 unique values:\n",
      "family_history_of_cancer:   3 unique values:\n",
      "file_uuid:   178 unique values:\n",
      "follow_ups:   1 unique values:\n",
      "followup_case_report_form_submission_reason:   3 unique values:\n",
      "followup_treatment_success:   5 unique values:\n",
      "frequency_of_alcohol_consumption:   8 unique values:\n",
      "gender:   2 unique values:\n",
      "gleason_score:   1 unique values:\n",
      "histologic_grading_tier_category:   3 unique values:\n",
      "histological_type:   5 unique values:\n",
      "histological_type_other:   15 unique values:\n",
      "history_of_chronic_pancreatitis:   3 unique values:\n",
      "history_of_diabetes:   3 unique values:\n",
      "history_of_neoadjuvant_treatment:   2 unique values:\n",
      "history_prior_surgery_type_other:   11 unique values:\n",
      "hiv_status:   1 unique values:\n",
      "icd_10:   5 unique values:\n",
      "icd_o_3_histology:   6 unique values:\n",
      "icd_o_3_site:   5 unique values:\n",
      "igcccg_stage:   1 unique values:\n",
      "informed_consent_verified:   1 unique values:\n",
      "init_pathology_dx_method_other:   4 unique values:\n",
      "initial_pathologic_diagnosis_method:   5 unique values:\n",
      "lost_follow_up:   3 unique values:\n",
      "lymph_node_examined_count:   40 unique values:\n",
      "masaoka_stage:   1 unique values:\n",
      "maximum_tumor_dimension:   42 unique values:\n",
      "mononucleotide_and_dinucleotide_marker_panel_analysis_status:   3 unique values:\n",
      "mononucleotide_marker_panel_analysis_status:   1 unique values:\n",
      "month_of_dcc_upload:   1 unique values:\n",
      "month_of_form_completion:   12 unique values:\n",
      "neoplasm_histologic_grade:   5 unique values:\n",
      "number_cycles:   1 unique values:\n",
      "number_of_lymphnodes_positive_by_he:   17 unique values:\n",
      "number_of_lymphnodes_positive_by_ihc:   2 unique values:\n",
      "number_pack_years_smoked:   32 unique values:\n",
      "other_dx:   2 unique values:\n",
      "pathologic_m:   3 unique values:\n",
      "pathologic_n:   5 unique values:\n",
      "pathologic_stage:   8 unique values:\n",
      "pathologic_t:   6 unique values:\n",
      "patient_death_reason:   6 unique values:\n",
      "person_neoplasm_cancer_status:   3 unique values:\n",
      "prescribed_dose:   1 unique values:\n",
      "prescribed_dose_units:   1 unique values:\n",
      "primary_lymph_node_presentation_assessment:   3 unique values:\n",
      "primary_pattern:   1 unique values:\n",
      "primary_therapy_outcome_success:   5 unique values:\n",
      "progression_determined_by-3:   2 unique values:\n",
      "project_code:   1 unique values:\n",
      "psa_value:   1 unique values:\n",
      "race:   4 unique values:\n",
      "radiation_therapy:   3 unique values:\n",
      "radiation_type_notes:   1 unique values:\n",
      "radiations:   1 unique values:\n",
      "regimen_number:   1 unique values:\n",
      "relative_cancer_type-2:   2 unique values:\n",
      "relative_cancer_type:   5 unique values:\n",
      "residual_tumor:   5 unique values:\n",
      "route_of_administration:   1 unique values:\n",
      "secondary_pattern:   1 unique values:\n",
      "serum_markers:   1 unique values:\n",
      "source_of_patient_death_reason:   4 unique values:\n",
      "stopped_smoking_year:   35 unique values:\n",
      "surgery_performed_type:   5 unique values:\n",
      "system_version:   2 unique values:\n",
      "targeted_molecular_therapy:   3 unique values:\n",
      "tertiary_pattern:   1 unique values:\n",
      "therapy_type_notes:   1 unique values:\n",
      "tissue_prospective_collection_indicator:   2 unique values:\n",
      "tissue_retrospective_collection_indicator:   2 unique values:\n",
      "tissue_source_site:   27 unique values:\n",
      "tobacco_smoking_history:   6 unique values:\n",
      "total_dose:   1 unique values:\n",
      "total_dose_units:   1 unique values:\n",
      "tumor_tissue_site:   1 unique values:\n",
      "tumor_type:   1 unique values:\n",
      "withdrawn:   1 unique values:\n",
      "year_of_dcc_upload:   1 unique values:\n",
      "year_of_form_completion:   4 unique values:\n",
      "year_of_initial_pathologic_diagnosis:   9 unique values:\n",
      "year_of_tobacco_smoking_onset:   31 unique values:\n"
     ]
    }
   ],
   "source": [
    "# Explore each columns of columns_data\n",
    "for col in columns_data.columns:\n",
    "    print(f\"{col}:   {len(columns_data[col].unique())} unique values:\")"
   ]
  },
  {
   "cell_type": "code",
   "execution_count": 13,
   "metadata": {},
   "outputs": [],
   "source": [
    "# drop columns which have constant value\n",
    "for col in columns_data.columns:\n",
    "    if len(columns_data[col].unique())<2:\n",
    "        columns_data.drop(columns=col, inplace=True)"
   ]
  },
  {
   "cell_type": "code",
   "execution_count": 14,
   "metadata": {},
   "outputs": [
    {
     "data": {
      "text/plain": [
       "(183, 83)"
      ]
     },
     "execution_count": 14,
     "metadata": {},
     "output_type": "execute_result"
    }
   ],
   "source": [
    "columns_data.shape"
   ]
  },
  {
   "cell_type": "code",
   "execution_count": 15,
   "metadata": {},
   "outputs": [
    {
     "name": "stdout",
     "output_type": "stream",
     "text": [
      "Total 55 columns have missing value, and Total 3986 missing values in dataset\n"
     ]
    },
    {
     "data": {
      "text/plain": [
       "<matplotlib.axes._subplots.AxesSubplot at 0x8c204b7f28>"
      ]
     },
     "execution_count": 15,
     "metadata": {},
     "output_type": "execute_result"
    },
    {
     "data": {
      "image/png": "[encoded data removed]",
      "text/plain": [
       "<Figure size 864x576 with 1 Axes>"
      ]
     },
     "metadata": {
      "needs_background": "light"
     },
     "output_type": "display_data"
    }
   ],
   "source": [
    "# Number of missing values in each column of columns_data\n",
    "missing_val_count = (columns_data.isnull().sum()).sort_values(ascending=False)\n",
    "Total_columns_missing_value = missing_val_count[missing_val_count > 0]\n",
    "\n",
    "print(f\"Total {len(Total_columns_missing_value)} columns have missing value, and\",\n",
    "      f\"Total {Total_columns_missing_value.sum()} missing values in dataset\")\n",
    "plt.figure(figsize=(12, 8))\n",
    "sns.countplot(data=Total_columns_missing_value, y= Total_columns_missing_value)"
   ]
  },
  {
   "cell_type": "markdown",
   "metadata": {},
   "source": [
    "# Exploratory Data Analysis"
   ]
  },
  {
   "cell_type": "code",
   "execution_count": 16,
   "metadata": {},
   "outputs": [
    {
     "data": {
      "text/plain": [
       "Index(['participant_id', 'sample_type', 'mRNAseq_cluster',\n",
       "       'bcr_patient_barcode', 'bcr_patient_uuid', 'vital_status',\n",
       "       'days_to_death', 'days_to_last_followup', 'adenocarcinoma_invasion',\n",
       "       'age_at_initial_pathologic_diagnosis', 'alcohol_history_documented',\n",
       "       'alcoholic_exposure_category', 'amount_of_alcohol_consumption_per_day',\n",
       "       'anatomic_neoplasm_subdivision', 'anatomic_neoplasm_subdivision_other',\n",
       "       'bcr_aliquot_uuid', 'bcr_canonical_reason-2', 'bcr_canonical_reason-3',\n",
       "       'bcr_canonical_reason', 'bcr_followup_barcode', 'bcr_followup_uuid',\n",
       "       'bcr_patient_canonical_status', 'day_of_form_completion',\n",
       "       'days_to_birth', 'days_to_diabetes_onset', 'days_to_index',\n",
       "       'days_to_initial_pathologic_diagnosis', 'days_to_pancreatitis_onset',\n",
       "       'ethnicity', 'family_history_of_cancer', 'file_uuid',\n",
       "       'followup_case_report_form_submission_reason',\n",
       "       'followup_treatment_success', 'frequency_of_alcohol_consumption',\n",
       "       'gender', 'histologic_grading_tier_category', 'histological_type',\n",
       "       'histological_type_other', 'history_of_chronic_pancreatitis',\n",
       "       'history_of_diabetes', 'history_of_neoadjuvant_treatment',\n",
       "       'history_prior_surgery_type_other', 'icd_10', 'icd_o_3_histology',\n",
       "       'icd_o_3_site', 'init_pathology_dx_method_other',\n",
       "       'initial_pathologic_diagnosis_method', 'lost_follow_up',\n",
       "       'lymph_node_examined_count', 'maximum_tumor_dimension',\n",
       "       'mononucleotide_and_dinucleotide_marker_panel_analysis_status',\n",
       "       'month_of_form_completion', 'neoplasm_histologic_grade',\n",
       "       'number_of_lymphnodes_positive_by_he',\n",
       "       'number_of_lymphnodes_positive_by_ihc', 'number_pack_years_smoked',\n",
       "       'other_dx', 'pathologic_m', 'pathologic_n', 'pathologic_stage',\n",
       "       'pathologic_t', 'patient_death_reason', 'person_neoplasm_cancer_status',\n",
       "       'primary_lymph_node_presentation_assessment',\n",
       "       'primary_therapy_outcome_success', 'progression_determined_by-3',\n",
       "       'race', 'radiation_therapy', 'relative_cancer_type-2',\n",
       "       'relative_cancer_type', 'residual_tumor',\n",
       "       'source_of_patient_death_reason', 'stopped_smoking_year',\n",
       "       'surgery_performed_type', 'system_version',\n",
       "       'targeted_molecular_therapy', 'tissue_prospective_collection_indicator',\n",
       "       'tissue_retrospective_collection_indicator', 'tissue_source_site',\n",
       "       'tobacco_smoking_history', 'year_of_form_completion',\n",
       "       'year_of_initial_pathologic_diagnosis',\n",
       "       'year_of_tobacco_smoking_onset'],\n",
       "      dtype='object', name='chd')"
      ]
     },
     "execution_count": 16,
     "metadata": {},
     "output_type": "execute_result"
    }
   ],
   "source": [
    "columns_data.columns"
   ]
  },
  {
   "cell_type": "code",
   "execution_count": 17,
   "metadata": {},
   "outputs": [
    {
     "data": {
      "text/plain": [
       "Primary solid Tumor    178\n",
       "Solid Tissue Normal      4\n",
       "Metastatic               1\n",
       "Name: sample_type, dtype: int64"
      ]
     },
     "execution_count": 17,
     "metadata": {},
     "output_type": "execute_result"
    }
   ],
   "source": [
    "columns_data.sample_type.value_counts()"
   ]
  },
  {
   "cell_type": "code",
   "execution_count": 18,
   "metadata": {},
   "outputs": [
    {
     "data": {
      "text/plain": [
       "dead     95\n",
       "alive    88\n",
       "Name: vital_status, dtype: int64"
      ]
     },
     "execution_count": 18,
     "metadata": {},
     "output_type": "execute_result"
    }
   ],
   "source": [
    "columns_data.vital_status.value_counts()"
   ]
  },
  {
   "cell_type": "code",
   "execution_count": 19,
   "metadata": {},
   "outputs": [
    {
     "data": {
      "text/plain": [
       "yes    182\n",
       "no       1\n",
       "Name: adenocarcinoma_invasion, dtype: int64"
      ]
     },
     "execution_count": 19,
     "metadata": {},
     "output_type": "execute_result"
    }
   ],
   "source": [
    "columns_data.adenocarcinoma_invasion.value_counts()"
   ]
  },
  {
   "cell_type": "code",
   "execution_count": 20,
   "metadata": {},
   "outputs": [
    {
     "name": "stderr",
     "output_type": "stream",
     "text": [
      "No handles with labels found to put in legend.\n"
     ]
    },
    {
     "name": "stdout",
     "output_type": "stream",
     "text": [
      "RNA sequence cluster:3.0 types patient is 24.16% of total \n",
      "RNA sequence cluster:4.0 types patient is 22.47% of total \n",
      "RNA sequence cluster:1.0 types patient is 21.91% of total \n",
      "RNA sequence cluster:5.0 types patient is 16.85% of total \n",
      "RNA sequence cluster:2.0 types patient is 14.61% of total \n"
     ]
    },
    {
     "data": {
      "image/png": "[encoded data removed]",
      "text/plain": [
       "<Figure size 720x288 with 1 Axes>"
      ]
     },
     "metadata": {
      "needs_background": "light"
     },
     "output_type": "display_data"
    }
   ],
   "source": [
    "conts_mRNA = columns_data.mRNAseq_cluster.value_counts()\n",
    "plt.figure(figsize=(10,4))\n",
    "sns.barplot(x=conts_mRNA.index,y=conts_mRNA.values,)\n",
    "plt.ylabel('Number of Patient')\n",
    "plt.xlabel('RNA sequence cluster Types')\n",
    "plt.title('levels of individual isoforms')\n",
    "plt.legend()\n",
    "for i, index in enumerate(conts_mRNA.index):\n",
    "    val = conts_mRNA.values[i]\n",
    "    val_pcn = round(((val)/sum(conts_mRNA.values))*100, 2)\n",
    "    print(f\"RNA sequence cluster:{index} types patient is {val_pcn}% of total \")"
   ]
  },
  {
   "cell_type": "code",
   "execution_count": 21,
   "metadata": {},
   "outputs": [
    {
     "data": {
      "text/plain": [
       "Text(0.5, 1.0, 'Vital status of patient by mRNA sequence cluster types ')"
      ]
     },
     "execution_count": 21,
     "metadata": {},
     "output_type": "execute_result"
    },
    {
     "data": {
      "image/png": "[encoded data removed]",
      "text/plain": [
       "<Figure size 720x360 with 1 Axes>"
      ]
     },
     "metadata": {
      "needs_background": "light"
     },
     "output_type": "display_data"
    }
   ],
   "source": [
    "mRNA_seq_group = columns_data.groupby(['mRNAseq_cluster', 'vital_status'])['vital_status'].count().reset_index(name='counts')\n",
    "plt.figure(figsize=(10, 5))\n",
    "sns.barplot(x='mRNAseq_cluster', y='counts', hue='vital_status', data=mRNA_seq_group)\n",
    "plt.ylabel('Number of Patient')\n",
    "plt.xlabel('RNA sequence cluster Types')\n",
    "plt.title('Vital status of patient by mRNA sequence cluster types ')"
   ]
  },
  {
   "cell_type": "code",
   "execution_count": null,
   "metadata": {},
   "outputs": [],
   "source": []
  },
  {
   "cell_type": "code",
   "execution_count": 22,
   "metadata": {},
   "outputs": [
    {
     "data": {
      "text/plain": [
       "Primary solid Tumor    178\n",
       "Solid Tissue Normal      4\n",
       "Metastatic               1\n",
       "Name: sample_type, dtype: int64"
      ]
     },
     "execution_count": 22,
     "metadata": {},
     "output_type": "execute_result"
    }
   ],
   "source": [
    "columns_data.sample_type.value_counts()"
   ]
  },
  {
   "cell_type": "code",
   "execution_count": 23,
   "metadata": {},
   "outputs": [
    {
     "data": {
      "text/plain": [
       "Text(0.5, 1.0, 'Vital status vs cancer type ')"
      ]
     },
     "execution_count": 23,
     "metadata": {},
     "output_type": "execute_result"
    },
    {
     "data": {
      "image/png": "[encoded data removed]",
      "text/plain": [
       "<Figure size 576x288 with 1 Axes>"
      ]
     },
     "metadata": {
      "needs_background": "light"
     },
     "output_type": "display_data"
    }
   ],
   "source": [
    "sample_type_group = columns_data.groupby(['sample_type', 'vital_status'])['vital_status'].count().reset_index(name='counts')\n",
    "plt.figure(figsize=(8, 4))\n",
    "sns.barplot(x='sample_type', y='counts', hue='vital_status', data=sample_type_group)\n",
    "plt.ylabel('Number of Patient')\n",
    "plt.xlabel('Types of cancer')\n",
    "plt.title('Vital status vs cancer type ')"
   ]
  },
  {
   "cell_type": "code",
   "execution_count": 24,
   "metadata": {},
   "outputs": [
    {
     "data": {
      "text/plain": [
       "yes    182\n",
       "no       1\n",
       "Name: adenocarcinoma_invasion, dtype: int64"
      ]
     },
     "execution_count": 24,
     "metadata": {},
     "output_type": "execute_result"
    }
   ],
   "source": [
    "columns_data.adenocarcinoma_invasion.value_counts()"
   ]
  },
  {
   "cell_type": "code",
   "execution_count": 25,
   "metadata": {},
   "outputs": [
    {
     "data": {
      "text/plain": [
       "array([ 4.5,  6.8,  5. ,  3.5,  4. ,  4.3,  5.8,  3.2,  2.2,  2.8,  4.6,\n",
       "        7.2,  3.3,  4.1, 12. ,  3. , 14. ,  nan,  2.5,  2. ,  1.3,  8. ,\n",
       "        4.2,  5.5,  3.6,  4.8,  3.8,  2.7,  6. ,  9. ,  3.1,  6.5,  4.7,\n",
       "        1.8,  3.4,  0.3,  2.3,  2.9,  2.4,  7. ,  2.1,  3.7])"
      ]
     },
     "execution_count": 25,
     "metadata": {},
     "output_type": "execute_result"
    }
   ],
   "source": [
    "columns_data.maximum_tumor_dimension.unique()"
   ]
  },
  {
   "cell_type": "code",
   "execution_count": 26,
   "metadata": {},
   "outputs": [
    {
     "data": {
      "text/plain": [
       "<matplotlib.axes._subplots.AxesSubplot at 0x8c26a9db70>"
      ]
     },
     "execution_count": 26,
     "metadata": {},
     "output_type": "execute_result"
    },
    {
     "data": {
      "image/png": "[encoded data removed]",
      "text/plain": [
       "<Figure size 432x288 with 1 Axes>"
      ]
     },
     "metadata": {
      "needs_background": "light"
     },
     "output_type": "display_data"
    }
   ],
   "source": [
    "sns.boxplot(x='vital_status', y='maximum_tumor_dimension', data=columns_data)"
   ]
  },
  {
   "cell_type": "code",
   "execution_count": 27,
   "metadata": {},
   "outputs": [
    {
     "data": {
      "text/plain": [
       "stage iib    122\n",
       "stage iia     29\n",
       "stage ib      15\n",
       "stage ia       5\n",
       "stage iv       5\n",
       "stage iii      4\n",
       "stage i        1\n",
       "Name: pathologic_stage, dtype: int64"
      ]
     },
     "execution_count": 27,
     "metadata": {},
     "output_type": "execute_result"
    }
   ],
   "source": [
    "columns_data.pathologic_stage.value_counts()"
   ]
  },
  {
   "cell_type": "code",
   "execution_count": 28,
   "metadata": {},
   "outputs": [
    {
     "data": {
      "text/plain": [
       "(183, 83)"
      ]
     },
     "execution_count": 28,
     "metadata": {},
     "output_type": "execute_result"
    }
   ],
   "source": [
    "columns_data.shape"
   ]
  },
  {
   "cell_type": "code",
   "execution_count": 29,
   "metadata": {},
   "outputs": [
    {
     "data": {
      "text/plain": [
       "<matplotlib.axes._subplots.AxesSubplot at 0x8c2699a9e8>"
      ]
     },
     "execution_count": 29,
     "metadata": {},
     "output_type": "execute_result"
    },
    {
     "data": {
      "image/png": "[encoded data removed]",
      "text/plain": [
       "<Figure size 720x360 with 1 Axes>"
      ]
     },
     "metadata": {
      "needs_background": "light"
     },
     "output_type": "display_data"
    }
   ],
   "source": [
    "pathologic_stage_group = columns_data.groupby(['pathologic_stage', 'vital_status'])['vital_status'].count().reset_index(name='counts')\n",
    "plt.figure(figsize=(10, 5))\n",
    "sns.barplot(x='pathologic_stage', y='counts', hue='vital_status', data=pathologic_stage_group)"
   ]
  },
  {
   "cell_type": "code",
   "execution_count": 30,
   "metadata": {},
   "outputs": [
    {
     "data": {
      "text/plain": [
       "<matplotlib.axes._subplots.AxesSubplot at 0x8c26d9dda0>"
      ]
     },
     "execution_count": 30,
     "metadata": {},
     "output_type": "execute_result"
    },
    {
     "data": {
      "image/png": "[encoded data removed]",
      "text/plain": [
       "<Figure size 720x360 with 1 Axes>"
      ]
     },
     "metadata": {
      "needs_background": "light"
     },
     "output_type": "display_data"
    }
   ],
   "source": [
    "pathologic_m_group = columns_data.groupby(['pathologic_m', 'vital_status'])['vital_status'].count().reset_index(name='counts')\n",
    "plt.figure(figsize=(10, 5))\n",
    "sns.barplot(x='pathologic_m', y='counts', hue='vital_status', data=pathologic_m_group)"
   ]
  },
  {
   "cell_type": "code",
   "execution_count": 31,
   "metadata": {},
   "outputs": [
    {
     "data": {
      "text/plain": [
       "<matplotlib.axes._subplots.AxesSubplot at 0x8c270316a0>"
      ]
     },
     "execution_count": 31,
     "metadata": {},
     "output_type": "execute_result"
    },
    {
     "data": {
      "image/png": "[encoded data removed]",
      "text/plain": [
       "<Figure size 720x360 with 1 Axes>"
      ]
     },
     "metadata": {
      "needs_background": "light"
     },
     "output_type": "display_data"
    }
   ],
   "source": [
    "pathologic_n_group = columns_data.groupby(['pathologic_n', 'vital_status'])['vital_status'].count().reset_index(name='counts')\n",
    "plt.figure(figsize=(10, 5))\n",
    "sns.barplot(x='pathologic_n', y='counts', hue='vital_status', data=pathologic_n_group)"
   ]
  },
  {
   "cell_type": "code",
   "execution_count": 32,
   "metadata": {},
   "outputs": [
    {
     "data": {
      "text/plain": [
       "<matplotlib.axes._subplots.AxesSubplot at 0x8c27061fd0>"
      ]
     },
     "execution_count": 32,
     "metadata": {},
     "output_type": "execute_result"
    },
    {
     "data": {
      "image/png": "[encoded data removed]",
      "text/plain": [
       "<Figure size 720x360 with 1 Axes>"
      ]
     },
     "metadata": {
      "needs_background": "light"
     },
     "output_type": "display_data"
    }
   ],
   "source": [
    "pathologic_t_group = columns_data.groupby(['pathologic_t', 'vital_status'])['vital_status'].count().reset_index(name='counts')\n",
    "plt.figure(figsize=(10, 5))\n",
    "sns.barplot(x='pathologic_t', y='counts', hue='vital_status', data=pathologic_t_group)"
   ]
  },
  {
   "cell_type": "code",
   "execution_count": 33,
   "metadata": {},
   "outputs": [],
   "source": [
    "genes_data = data.data_df"
   ]
  },
  {
   "cell_type": "code",
   "execution_count": 34,
   "metadata": {},
   "outputs": [
    {
     "data": {
      "text/html": [
       "<div>\n",
       "<style scoped>\n",
       "    .dataframe tbody tr th:only-of-type {\n",
       "        vertical-align: middle;\n",
       "    }\n",
       "\n",
       "    .dataframe tbody tr th {\n",
       "        vertical-align: top;\n",
       "    }\n",
       "\n",
       "    .dataframe thead th {\n",
       "        text-align: right;\n",
       "    }\n",
       "</style>\n",
       "<table border=\"1\" class=\"dataframe\">\n",
       "  <thead>\n",
       "    <tr style=\"text-align: right;\">\n",
       "      <th>cid</th>\n",
       "      <th>aab1-Primary solid Tumor</th>\n",
       "      <th>aab4-Primary solid Tumor</th>\n",
       "      <th>aab6-Primary solid Tumor</th>\n",
       "      <th>aab8-Primary solid Tumor</th>\n",
       "      <th>aab9-Primary solid Tumor</th>\n",
       "      <th>aaba-Primary solid Tumor</th>\n",
       "      <th>aabe-Primary solid Tumor</th>\n",
       "      <th>aabf-Primary solid Tumor</th>\n",
       "      <th>aabh-Primary solid Tumor</th>\n",
       "      <th>aabi-Primary solid Tumor</th>\n",
       "      <th>...</th>\n",
       "      <th>aauh-Primary solid Tumor</th>\n",
       "      <th>aaui-Primary solid Tumor</th>\n",
       "      <th>aaul-Primary solid Tumor</th>\n",
       "      <th>a8t3-Primary solid Tumor</th>\n",
       "      <th>a8t5-Primary solid Tumor</th>\n",
       "      <th>a89d-Solid Tissue Normal</th>\n",
       "      <th>a89d-Primary solid Tumor</th>\n",
       "      <th>a8sy-Primary solid Tumor</th>\n",
       "      <th>a8lh-Primary solid Tumor</th>\n",
       "      <th>aapl-Primary solid Tumor</th>\n",
       "    </tr>\n",
       "    <tr>\n",
       "      <th>rid</th>\n",
       "      <th></th>\n",
       "      <th></th>\n",
       "      <th></th>\n",
       "      <th></th>\n",
       "      <th></th>\n",
       "      <th></th>\n",
       "      <th></th>\n",
       "      <th></th>\n",
       "      <th></th>\n",
       "      <th></th>\n",
       "      <th></th>\n",
       "      <th></th>\n",
       "      <th></th>\n",
       "      <th></th>\n",
       "      <th></th>\n",
       "      <th></th>\n",
       "      <th></th>\n",
       "      <th></th>\n",
       "      <th></th>\n",
       "      <th></th>\n",
       "      <th></th>\n",
       "    </tr>\n",
       "  </thead>\n",
       "  <tbody>\n",
       "    <tr>\n",
       "      <th>SLC35E2</th>\n",
       "      <td>7.45</td>\n",
       "      <td>8.1</td>\n",
       "      <td>7.2</td>\n",
       "      <td>8.0</td>\n",
       "      <td>7.65</td>\n",
       "      <td>8.1</td>\n",
       "      <td>8.2</td>\n",
       "      <td>8.2</td>\n",
       "      <td>7.55</td>\n",
       "      <td>8.45</td>\n",
       "      <td>...</td>\n",
       "      <td>8.45</td>\n",
       "      <td>7.95</td>\n",
       "      <td>8.3</td>\n",
       "      <td>8.05</td>\n",
       "      <td>8.2</td>\n",
       "      <td>7.25</td>\n",
       "      <td>7.4</td>\n",
       "      <td>7.35</td>\n",
       "      <td>7.2</td>\n",
       "      <td>9.05</td>\n",
       "    </tr>\n",
       "    <tr>\n",
       "      <th>A1BG</th>\n",
       "      <td>6.40</td>\n",
       "      <td>5.8</td>\n",
       "      <td>6.4</td>\n",
       "      <td>5.8</td>\n",
       "      <td>6.70</td>\n",
       "      <td>6.6</td>\n",
       "      <td>6.3</td>\n",
       "      <td>6.5</td>\n",
       "      <td>5.70</td>\n",
       "      <td>6.30</td>\n",
       "      <td>...</td>\n",
       "      <td>7.10</td>\n",
       "      <td>7.10</td>\n",
       "      <td>6.7</td>\n",
       "      <td>7.00</td>\n",
       "      <td>6.9</td>\n",
       "      <td>7.10</td>\n",
       "      <td>7.3</td>\n",
       "      <td>7.90</td>\n",
       "      <td>6.0</td>\n",
       "      <td>6.90</td>\n",
       "    </tr>\n",
       "    <tr>\n",
       "      <th>A1CF</th>\n",
       "      <td>4.70</td>\n",
       "      <td>5.7</td>\n",
       "      <td>3.0</td>\n",
       "      <td>5.1</td>\n",
       "      <td>4.40</td>\n",
       "      <td>4.2</td>\n",
       "      <td>1.6</td>\n",
       "      <td>6.8</td>\n",
       "      <td>6.00</td>\n",
       "      <td>NaN</td>\n",
       "      <td>...</td>\n",
       "      <td>5.40</td>\n",
       "      <td>6.40</td>\n",
       "      <td>6.5</td>\n",
       "      <td>4.40</td>\n",
       "      <td>3.3</td>\n",
       "      <td>3.60</td>\n",
       "      <td>6.2</td>\n",
       "      <td>1.20</td>\n",
       "      <td>4.9</td>\n",
       "      <td>2.00</td>\n",
       "    </tr>\n",
       "    <tr>\n",
       "      <th>A2BP1</th>\n",
       "      <td>-1.00</td>\n",
       "      <td>1.1</td>\n",
       "      <td>NaN</td>\n",
       "      <td>NaN</td>\n",
       "      <td>0.10</td>\n",
       "      <td>NaN</td>\n",
       "      <td>NaN</td>\n",
       "      <td>1.7</td>\n",
       "      <td>0.40</td>\n",
       "      <td>-1.50</td>\n",
       "      <td>...</td>\n",
       "      <td>3.50</td>\n",
       "      <td>1.30</td>\n",
       "      <td>-0.3</td>\n",
       "      <td>NaN</td>\n",
       "      <td>2.1</td>\n",
       "      <td>2.00</td>\n",
       "      <td>0.0</td>\n",
       "      <td>NaN</td>\n",
       "      <td>2.0</td>\n",
       "      <td>NaN</td>\n",
       "    </tr>\n",
       "    <tr>\n",
       "      <th>A2LD1</th>\n",
       "      <td>7.50</td>\n",
       "      <td>6.8</td>\n",
       "      <td>7.3</td>\n",
       "      <td>7.5</td>\n",
       "      <td>7.40</td>\n",
       "      <td>6.6</td>\n",
       "      <td>7.1</td>\n",
       "      <td>6.8</td>\n",
       "      <td>8.00</td>\n",
       "      <td>5.80</td>\n",
       "      <td>...</td>\n",
       "      <td>6.50</td>\n",
       "      <td>7.30</td>\n",
       "      <td>6.1</td>\n",
       "      <td>6.70</td>\n",
       "      <td>6.5</td>\n",
       "      <td>6.70</td>\n",
       "      <td>6.7</td>\n",
       "      <td>6.50</td>\n",
       "      <td>6.9</td>\n",
       "      <td>6.70</td>\n",
       "    </tr>\n",
       "  </tbody>\n",
       "</table>\n",
       "<p>5 rows × 183 columns</p>\n",
       "</div>"
      ],
      "text/plain": [
       "cid      aab1-Primary solid Tumor  aab4-Primary solid Tumor  \\\n",
       "rid                                                           \n",
       "SLC35E2                      7.45                       8.1   \n",
       "A1BG                         6.40                       5.8   \n",
       "A1CF                         4.70                       5.7   \n",
       "A2BP1                       -1.00                       1.1   \n",
       "A2LD1                        7.50                       6.8   \n",
       "\n",
       "cid      aab6-Primary solid Tumor  aab8-Primary solid Tumor  \\\n",
       "rid                                                           \n",
       "SLC35E2                       7.2                       8.0   \n",
       "A1BG                          6.4                       5.8   \n",
       "A1CF                          3.0                       5.1   \n",
       "A2BP1                         NaN                       NaN   \n",
       "A2LD1                         7.3                       7.5   \n",
       "\n",
       "cid      aab9-Primary solid Tumor  aaba-Primary solid Tumor  \\\n",
       "rid                                                           \n",
       "SLC35E2                      7.65                       8.1   \n",
       "A1BG                         6.70                       6.6   \n",
       "A1CF                         4.40                       4.2   \n",
       "A2BP1                        0.10                       NaN   \n",
       "A2LD1                        7.40                       6.6   \n",
       "\n",
       "cid      aabe-Primary solid Tumor  aabf-Primary solid Tumor  \\\n",
       "rid                                                           \n",
       "SLC35E2                       8.2                       8.2   \n",
       "A1BG                          6.3                       6.5   \n",
       "A1CF                          1.6                       6.8   \n",
       "A2BP1                         NaN                       1.7   \n",
       "A2LD1                         7.1                       6.8   \n",
       "\n",
       "cid      aabh-Primary solid Tumor  aabi-Primary solid Tumor  ...  \\\n",
       "rid                                                          ...   \n",
       "SLC35E2                      7.55                      8.45  ...   \n",
       "A1BG                         5.70                      6.30  ...   \n",
       "A1CF                         6.00                       NaN  ...   \n",
       "A2BP1                        0.40                     -1.50  ...   \n",
       "A2LD1                        8.00                      5.80  ...   \n",
       "\n",
       "cid      aauh-Primary solid Tumor  aaui-Primary solid Tumor  \\\n",
       "rid                                                           \n",
       "SLC35E2                      8.45                      7.95   \n",
       "A1BG                         7.10                      7.10   \n",
       "A1CF                         5.40                      6.40   \n",
       "A2BP1                        3.50                      1.30   \n",
       "A2LD1                        6.50                      7.30   \n",
       "\n",
       "cid      aaul-Primary solid Tumor  a8t3-Primary solid Tumor  \\\n",
       "rid                                                           \n",
       "SLC35E2                       8.3                      8.05   \n",
       "A1BG                          6.7                      7.00   \n",
       "A1CF                          6.5                      4.40   \n",
       "A2BP1                        -0.3                       NaN   \n",
       "A2LD1                         6.1                      6.70   \n",
       "\n",
       "cid      a8t5-Primary solid Tumor  a89d-Solid Tissue Normal  \\\n",
       "rid                                                           \n",
       "SLC35E2                       8.2                      7.25   \n",
       "A1BG                          6.9                      7.10   \n",
       "A1CF                          3.3                      3.60   \n",
       "A2BP1                         2.1                      2.00   \n",
       "A2LD1                         6.5                      6.70   \n",
       "\n",
       "cid      a89d-Primary solid Tumor  a8sy-Primary solid Tumor  \\\n",
       "rid                                                           \n",
       "SLC35E2                       7.4                      7.35   \n",
       "A1BG                          7.3                      7.90   \n",
       "A1CF                          6.2                      1.20   \n",
       "A2BP1                         0.0                       NaN   \n",
       "A2LD1                         6.7                      6.50   \n",
       "\n",
       "cid      a8lh-Primary solid Tumor  aapl-Primary solid Tumor  \n",
       "rid                                                          \n",
       "SLC35E2                       7.2                      9.05  \n",
       "A1BG                          6.0                      6.90  \n",
       "A1CF                          4.9                      2.00  \n",
       "A2BP1                         2.0                       NaN  \n",
       "A2LD1                         6.9                      6.70  \n",
       "\n",
       "[5 rows x 183 columns]"
      ]
     },
     "execution_count": 34,
     "metadata": {},
     "output_type": "execute_result"
    }
   ],
   "source": [
    "genes_data.head()"
   ]
  },
  {
   "cell_type": "code",
   "execution_count": 35,
   "metadata": {},
   "outputs": [
    {
     "name": "stdout",
     "output_type": "stream",
     "text": [
      "Total 183 columns have missing value, and Total 134954 missing values in dataset\n"
     ]
    },
    {
     "data": {
      "text/plain": [
       "<matplotlib.axes._subplots.AxesSubplot at 0x8c271acf98>"
      ]
     },
     "execution_count": 35,
     "metadata": {},
     "output_type": "execute_result"
    },
    {
     "data": {
      "image/png": "[encoded data removed]",
      "text/plain": [
       "<Figure size 720x1728 with 1 Axes>"
      ]
     },
     "metadata": {
      "needs_background": "light"
     },
     "output_type": "display_data"
    }
   ],
   "source": [
    "# Number of missing values in each column of columns_data\n",
    "missing_val_count = (genes_data.isnull().sum()).sort_values(ascending=False)\n",
    "Total_columns_missing_value = missing_val_count[missing_val_count > 0]\n",
    "\n",
    "print(f\"Total {len(Total_columns_missing_value)} columns have missing value, and\",\n",
    "      f\"Total {Total_columns_missing_value.sum()} missing values in dataset\")\n",
    "plt.figure(figsize=(10, 24))\n",
    "sns.countplot(data=Total_columns_missing_value, y= Total_columns_missing_value)"
   ]
  },
  {
   "cell_type": "code",
   "execution_count": 37,
   "metadata": {},
   "outputs": [
    {
     "data": {
      "text/html": [
       "<div>\n",
       "<style scoped>\n",
       "    .dataframe tbody tr th:only-of-type {\n",
       "        vertical-align: middle;\n",
       "    }\n",
       "\n",
       "    .dataframe tbody tr th {\n",
       "        vertical-align: top;\n",
       "    }\n",
       "\n",
       "    .dataframe thead th {\n",
       "        text-align: right;\n",
       "    }\n",
       "</style>\n",
       "<table border=\"1\" class=\"dataframe\">\n",
       "  <thead>\n",
       "    <tr style=\"text-align: right;\">\n",
       "      <th>cid</th>\n",
       "      <th>aab1-Primary solid Tumor</th>\n",
       "      <th>aab4-Primary solid Tumor</th>\n",
       "      <th>aab6-Primary solid Tumor</th>\n",
       "      <th>aab8-Primary solid Tumor</th>\n",
       "      <th>aab9-Primary solid Tumor</th>\n",
       "      <th>aaba-Primary solid Tumor</th>\n",
       "      <th>aabe-Primary solid Tumor</th>\n",
       "      <th>aabf-Primary solid Tumor</th>\n",
       "      <th>aabh-Primary solid Tumor</th>\n",
       "      <th>aabi-Primary solid Tumor</th>\n",
       "      <th>...</th>\n",
       "      <th>aauh-Primary solid Tumor</th>\n",
       "      <th>aaui-Primary solid Tumor</th>\n",
       "      <th>aaul-Primary solid Tumor</th>\n",
       "      <th>a8t3-Primary solid Tumor</th>\n",
       "      <th>a8t5-Primary solid Tumor</th>\n",
       "      <th>a89d-Solid Tissue Normal</th>\n",
       "      <th>a89d-Primary solid Tumor</th>\n",
       "      <th>a8sy-Primary solid Tumor</th>\n",
       "      <th>a8lh-Primary solid Tumor</th>\n",
       "      <th>aapl-Primary solid Tumor</th>\n",
       "    </tr>\n",
       "    <tr>\n",
       "      <th>rid</th>\n",
       "      <th></th>\n",
       "      <th></th>\n",
       "      <th></th>\n",
       "      <th></th>\n",
       "      <th></th>\n",
       "      <th></th>\n",
       "      <th></th>\n",
       "      <th></th>\n",
       "      <th></th>\n",
       "      <th></th>\n",
       "      <th></th>\n",
       "      <th></th>\n",
       "      <th></th>\n",
       "      <th></th>\n",
       "      <th></th>\n",
       "      <th></th>\n",
       "      <th></th>\n",
       "      <th></th>\n",
       "      <th></th>\n",
       "      <th></th>\n",
       "      <th></th>\n",
       "    </tr>\n",
       "  </thead>\n",
       "  <tbody>\n",
       "    <tr>\n",
       "      <th>SLC35E2</th>\n",
       "      <td>7.45</td>\n",
       "      <td>8.1</td>\n",
       "      <td>7.200000</td>\n",
       "      <td>8.000000</td>\n",
       "      <td>7.65</td>\n",
       "      <td>8.100000</td>\n",
       "      <td>8.200000</td>\n",
       "      <td>8.2</td>\n",
       "      <td>7.55</td>\n",
       "      <td>8.450000</td>\n",
       "      <td>...</td>\n",
       "      <td>8.45</td>\n",
       "      <td>7.95</td>\n",
       "      <td>8.3</td>\n",
       "      <td>8.050000</td>\n",
       "      <td>8.2</td>\n",
       "      <td>7.25</td>\n",
       "      <td>7.4</td>\n",
       "      <td>7.350000</td>\n",
       "      <td>7.2</td>\n",
       "      <td>9.050000</td>\n",
       "    </tr>\n",
       "    <tr>\n",
       "      <th>A1BG</th>\n",
       "      <td>6.40</td>\n",
       "      <td>5.8</td>\n",
       "      <td>6.400000</td>\n",
       "      <td>5.800000</td>\n",
       "      <td>6.70</td>\n",
       "      <td>6.600000</td>\n",
       "      <td>6.300000</td>\n",
       "      <td>6.5</td>\n",
       "      <td>5.70</td>\n",
       "      <td>6.300000</td>\n",
       "      <td>...</td>\n",
       "      <td>7.10</td>\n",
       "      <td>7.10</td>\n",
       "      <td>6.7</td>\n",
       "      <td>7.000000</td>\n",
       "      <td>6.9</td>\n",
       "      <td>7.10</td>\n",
       "      <td>7.3</td>\n",
       "      <td>7.900000</td>\n",
       "      <td>6.0</td>\n",
       "      <td>6.900000</td>\n",
       "    </tr>\n",
       "    <tr>\n",
       "      <th>A1CF</th>\n",
       "      <td>4.70</td>\n",
       "      <td>5.7</td>\n",
       "      <td>3.000000</td>\n",
       "      <td>5.100000</td>\n",
       "      <td>4.40</td>\n",
       "      <td>4.200000</td>\n",
       "      <td>1.600000</td>\n",
       "      <td>6.8</td>\n",
       "      <td>6.00</td>\n",
       "      <td>7.431307</td>\n",
       "      <td>...</td>\n",
       "      <td>5.40</td>\n",
       "      <td>6.40</td>\n",
       "      <td>6.5</td>\n",
       "      <td>4.400000</td>\n",
       "      <td>3.3</td>\n",
       "      <td>3.60</td>\n",
       "      <td>6.2</td>\n",
       "      <td>1.200000</td>\n",
       "      <td>4.9</td>\n",
       "      <td>2.000000</td>\n",
       "    </tr>\n",
       "    <tr>\n",
       "      <th>A2BP1</th>\n",
       "      <td>-1.00</td>\n",
       "      <td>1.1</td>\n",
       "      <td>7.577068</td>\n",
       "      <td>7.728812</td>\n",
       "      <td>0.10</td>\n",
       "      <td>7.664174</td>\n",
       "      <td>7.628676</td>\n",
       "      <td>1.7</td>\n",
       "      <td>0.40</td>\n",
       "      <td>-1.500000</td>\n",
       "      <td>...</td>\n",
       "      <td>3.50</td>\n",
       "      <td>1.30</td>\n",
       "      <td>-0.3</td>\n",
       "      <td>7.685606</td>\n",
       "      <td>2.1</td>\n",
       "      <td>2.00</td>\n",
       "      <td>0.0</td>\n",
       "      <td>7.540936</td>\n",
       "      <td>2.0</td>\n",
       "      <td>7.660113</td>\n",
       "    </tr>\n",
       "    <tr>\n",
       "      <th>A2LD1</th>\n",
       "      <td>7.50</td>\n",
       "      <td>6.8</td>\n",
       "      <td>7.300000</td>\n",
       "      <td>7.500000</td>\n",
       "      <td>7.40</td>\n",
       "      <td>6.600000</td>\n",
       "      <td>7.100000</td>\n",
       "      <td>6.8</td>\n",
       "      <td>8.00</td>\n",
       "      <td>5.800000</td>\n",
       "      <td>...</td>\n",
       "      <td>6.50</td>\n",
       "      <td>7.30</td>\n",
       "      <td>6.1</td>\n",
       "      <td>6.700000</td>\n",
       "      <td>6.5</td>\n",
       "      <td>6.70</td>\n",
       "      <td>6.7</td>\n",
       "      <td>6.500000</td>\n",
       "      <td>6.9</td>\n",
       "      <td>6.700000</td>\n",
       "    </tr>\n",
       "  </tbody>\n",
       "</table>\n",
       "<p>5 rows × 183 columns</p>\n",
       "</div>"
      ],
      "text/plain": [
       "cid      aab1-Primary solid Tumor  aab4-Primary solid Tumor  \\\n",
       "rid                                                           \n",
       "SLC35E2                      7.45                       8.1   \n",
       "A1BG                         6.40                       5.8   \n",
       "A1CF                         4.70                       5.7   \n",
       "A2BP1                       -1.00                       1.1   \n",
       "A2LD1                        7.50                       6.8   \n",
       "\n",
       "cid      aab6-Primary solid Tumor  aab8-Primary solid Tumor  \\\n",
       "rid                                                           \n",
       "SLC35E2                  7.200000                  8.000000   \n",
       "A1BG                     6.400000                  5.800000   \n",
       "A1CF                     3.000000                  5.100000   \n",
       "A2BP1                    7.577068                  7.728812   \n",
       "A2LD1                    7.300000                  7.500000   \n",
       "\n",
       "cid      aab9-Primary solid Tumor  aaba-Primary solid Tumor  \\\n",
       "rid                                                           \n",
       "SLC35E2                      7.65                  8.100000   \n",
       "A1BG                         6.70                  6.600000   \n",
       "A1CF                         4.40                  4.200000   \n",
       "A2BP1                        0.10                  7.664174   \n",
       "A2LD1                        7.40                  6.600000   \n",
       "\n",
       "cid      aabe-Primary solid Tumor  aabf-Primary solid Tumor  \\\n",
       "rid                                                           \n",
       "SLC35E2                  8.200000                       8.2   \n",
       "A1BG                     6.300000                       6.5   \n",
       "A1CF                     1.600000                       6.8   \n",
       "A2BP1                    7.628676                       1.7   \n",
       "A2LD1                    7.100000                       6.8   \n",
       "\n",
       "cid      aabh-Primary solid Tumor  aabi-Primary solid Tumor  ...  \\\n",
       "rid                                                          ...   \n",
       "SLC35E2                      7.55                  8.450000  ...   \n",
       "A1BG                         5.70                  6.300000  ...   \n",
       "A1CF                         6.00                  7.431307  ...   \n",
       "A2BP1                        0.40                 -1.500000  ...   \n",
       "A2LD1                        8.00                  5.800000  ...   \n",
       "\n",
       "cid      aauh-Primary solid Tumor  aaui-Primary solid Tumor  \\\n",
       "rid                                                           \n",
       "SLC35E2                      8.45                      7.95   \n",
       "A1BG                         7.10                      7.10   \n",
       "A1CF                         5.40                      6.40   \n",
       "A2BP1                        3.50                      1.30   \n",
       "A2LD1                        6.50                      7.30   \n",
       "\n",
       "cid      aaul-Primary solid Tumor  a8t3-Primary solid Tumor  \\\n",
       "rid                                                           \n",
       "SLC35E2                       8.3                  8.050000   \n",
       "A1BG                          6.7                  7.000000   \n",
       "A1CF                          6.5                  4.400000   \n",
       "A2BP1                        -0.3                  7.685606   \n",
       "A2LD1                         6.1                  6.700000   \n",
       "\n",
       "cid      a8t5-Primary solid Tumor  a89d-Solid Tissue Normal  \\\n",
       "rid                                                           \n",
       "SLC35E2                       8.2                      7.25   \n",
       "A1BG                          6.9                      7.10   \n",
       "A1CF                          3.3                      3.60   \n",
       "A2BP1                         2.1                      2.00   \n",
       "A2LD1                         6.5                      6.70   \n",
       "\n",
       "cid      a89d-Primary solid Tumor  a8sy-Primary solid Tumor  \\\n",
       "rid                                                           \n",
       "SLC35E2                       7.4                  7.350000   \n",
       "A1BG                          7.3                  7.900000   \n",
       "A1CF                          6.2                  1.200000   \n",
       "A2BP1                         0.0                  7.540936   \n",
       "A2LD1                         6.7                  6.500000   \n",
       "\n",
       "cid      a8lh-Primary solid Tumor  aapl-Primary solid Tumor  \n",
       "rid                                                          \n",
       "SLC35E2                       7.2                  9.050000  \n",
       "A1BG                          6.0                  6.900000  \n",
       "A1CF                          4.9                  2.000000  \n",
       "A2BP1                         2.0                  7.660113  \n",
       "A2LD1                         6.9                  6.700000  \n",
       "\n",
       "[5 rows x 183 columns]"
      ]
     },
     "execution_count": 37,
     "metadata": {},
     "output_type": "execute_result"
    }
   ],
   "source": [
    "from sklearn.impute import SimpleImputer\n",
    "my_imputer = SimpleImputer()\n",
    "imputed_my_data = pd.DataFrame(my_imputer.fit_transform(genes_data))\n",
    "\n",
    "# Fill in the lines below: imputation removed column names; put them back\n",
    "imputed_my_data.columns = genes_data.columns\n",
    "imputed_my_data.index = genes_data.index\n",
    "\n",
    "imputed_my_data.head()"
   ]
  },
  {
   "cell_type": "code",
   "execution_count": 38,
   "metadata": {},
   "outputs": [
    {
     "name": "stdout",
     "output_type": "stream",
     "text": [
      "Total 0 columns have missing value, and Total 0 missing values in dataset\n"
     ]
    }
   ],
   "source": [
    "# Number of missing values in each column of columns_data\n",
    "missing_val_count = (imputed_my_data.isnull().sum()).sort_values(ascending=False)\n",
    "Total_columns_missing_value = missing_val_count[missing_val_count > 0]\n",
    "\n",
    "print(f\"Total {len(Total_columns_missing_value)} columns have missing value, and\",\n",
    "      f\"Total {Total_columns_missing_value.sum()} missing values in dataset\")"
   ]
  },
  {
   "cell_type": "code",
   "execution_count": 40,
   "metadata": {},
   "outputs": [
    {
     "name": "stdout",
     "output_type": "stream",
     "text": [
      "183\n",
      "183\n"
     ]
    }
   ],
   "source": [
    "print(len(genes_data.columns.unique()))\n",
    "print(len(columns_data.index.unique()))"
   ]
  },
  {
   "cell_type": "code",
   "execution_count": 41,
   "metadata": {},
   "outputs": [
    {
     "data": {
      "text/html": [
       "<div>\n",
       "<style scoped>\n",
       "    .dataframe tbody tr th:only-of-type {\n",
       "        vertical-align: middle;\n",
       "    }\n",
       "\n",
       "    .dataframe tbody tr th {\n",
       "        vertical-align: top;\n",
       "    }\n",
       "\n",
       "    .dataframe thead th {\n",
       "        text-align: right;\n",
       "    }\n",
       "</style>\n",
       "<table border=\"1\" class=\"dataframe\">\n",
       "  <thead>\n",
       "    <tr style=\"text-align: right;\">\n",
       "      <th>rid</th>\n",
       "      <th>SLC35E2</th>\n",
       "      <th>A1BG</th>\n",
       "      <th>A1CF</th>\n",
       "      <th>A2BP1</th>\n",
       "      <th>A2LD1</th>\n",
       "      <th>A2ML1</th>\n",
       "      <th>A2M</th>\n",
       "      <th>A4GALT</th>\n",
       "      <th>A4GNT</th>\n",
       "      <th>AAA1</th>\n",
       "      <th>...</th>\n",
       "      <th>ZWINT</th>\n",
       "      <th>ZXDA</th>\n",
       "      <th>ZXDB</th>\n",
       "      <th>ZXDC</th>\n",
       "      <th>ZYG11A</th>\n",
       "      <th>ZYG11B</th>\n",
       "      <th>ZYX</th>\n",
       "      <th>ZZEF1</th>\n",
       "      <th>ZZZ3</th>\n",
       "      <th>psiTPTE22</th>\n",
       "    </tr>\n",
       "    <tr>\n",
       "      <th>cid</th>\n",
       "      <th></th>\n",
       "      <th></th>\n",
       "      <th></th>\n",
       "      <th></th>\n",
       "      <th></th>\n",
       "      <th></th>\n",
       "      <th></th>\n",
       "      <th></th>\n",
       "      <th></th>\n",
       "      <th></th>\n",
       "      <th></th>\n",
       "      <th></th>\n",
       "      <th></th>\n",
       "      <th></th>\n",
       "      <th></th>\n",
       "      <th></th>\n",
       "      <th></th>\n",
       "      <th></th>\n",
       "      <th></th>\n",
       "      <th></th>\n",
       "      <th></th>\n",
       "    </tr>\n",
       "  </thead>\n",
       "  <tbody>\n",
       "    <tr>\n",
       "      <th>aab1</th>\n",
       "      <td>7.45</td>\n",
       "      <td>6.4</td>\n",
       "      <td>4.7</td>\n",
       "      <td>-1.000000</td>\n",
       "      <td>7.5</td>\n",
       "      <td>6.400000</td>\n",
       "      <td>14.3</td>\n",
       "      <td>10.6</td>\n",
       "      <td>8.8</td>\n",
       "      <td>1.000000</td>\n",
       "      <td>...</td>\n",
       "      <td>8.6</td>\n",
       "      <td>6.2</td>\n",
       "      <td>9.0</td>\n",
       "      <td>9.9</td>\n",
       "      <td>7.600244</td>\n",
       "      <td>9.2</td>\n",
       "      <td>12.9</td>\n",
       "      <td>10.1</td>\n",
       "      <td>9.3</td>\n",
       "      <td>5.5</td>\n",
       "    </tr>\n",
       "    <tr>\n",
       "      <th>aab4</th>\n",
       "      <td>8.10</td>\n",
       "      <td>5.8</td>\n",
       "      <td>5.7</td>\n",
       "      <td>1.100000</td>\n",
       "      <td>6.8</td>\n",
       "      <td>7.639954</td>\n",
       "      <td>14.0</td>\n",
       "      <td>10.2</td>\n",
       "      <td>5.6</td>\n",
       "      <td>-1.200000</td>\n",
       "      <td>...</td>\n",
       "      <td>8.8</td>\n",
       "      <td>5.8</td>\n",
       "      <td>8.5</td>\n",
       "      <td>10.0</td>\n",
       "      <td>7.639954</td>\n",
       "      <td>9.3</td>\n",
       "      <td>12.4</td>\n",
       "      <td>9.8</td>\n",
       "      <td>8.9</td>\n",
       "      <td>4.5</td>\n",
       "    </tr>\n",
       "    <tr>\n",
       "      <th>aab6</th>\n",
       "      <td>7.20</td>\n",
       "      <td>6.4</td>\n",
       "      <td>3.0</td>\n",
       "      <td>7.577068</td>\n",
       "      <td>7.3</td>\n",
       "      <td>10.800000</td>\n",
       "      <td>13.1</td>\n",
       "      <td>10.1</td>\n",
       "      <td>0.2</td>\n",
       "      <td>0.200000</td>\n",
       "      <td>...</td>\n",
       "      <td>9.1</td>\n",
       "      <td>3.9</td>\n",
       "      <td>8.1</td>\n",
       "      <td>10.0</td>\n",
       "      <td>-0.800000</td>\n",
       "      <td>9.4</td>\n",
       "      <td>13.5</td>\n",
       "      <td>9.8</td>\n",
       "      <td>9.2</td>\n",
       "      <td>4.7</td>\n",
       "    </tr>\n",
       "    <tr>\n",
       "      <th>aab8</th>\n",
       "      <td>8.00</td>\n",
       "      <td>5.8</td>\n",
       "      <td>5.1</td>\n",
       "      <td>7.728812</td>\n",
       "      <td>7.5</td>\n",
       "      <td>4.100000</td>\n",
       "      <td>13.8</td>\n",
       "      <td>8.6</td>\n",
       "      <td>3.2</td>\n",
       "      <td>-0.100000</td>\n",
       "      <td>...</td>\n",
       "      <td>8.9</td>\n",
       "      <td>5.2</td>\n",
       "      <td>8.5</td>\n",
       "      <td>9.7</td>\n",
       "      <td>1.900000</td>\n",
       "      <td>9.4</td>\n",
       "      <td>12.5</td>\n",
       "      <td>9.7</td>\n",
       "      <td>9.3</td>\n",
       "      <td>6.4</td>\n",
       "    </tr>\n",
       "    <tr>\n",
       "      <th>aab9</th>\n",
       "      <td>7.65</td>\n",
       "      <td>6.7</td>\n",
       "      <td>4.4</td>\n",
       "      <td>0.100000</td>\n",
       "      <td>7.4</td>\n",
       "      <td>9.300000</td>\n",
       "      <td>14.6</td>\n",
       "      <td>10.1</td>\n",
       "      <td>5.7</td>\n",
       "      <td>7.796027</td>\n",
       "      <td>...</td>\n",
       "      <td>8.4</td>\n",
       "      <td>5.9</td>\n",
       "      <td>8.6</td>\n",
       "      <td>9.9</td>\n",
       "      <td>0.100000</td>\n",
       "      <td>9.3</td>\n",
       "      <td>13.0</td>\n",
       "      <td>10.1</td>\n",
       "      <td>9.2</td>\n",
       "      <td>4.9</td>\n",
       "    </tr>\n",
       "  </tbody>\n",
       "</table>\n",
       "<p>5 rows × 18465 columns</p>\n",
       "</div>"
      ],
      "text/plain": [
       "rid   SLC35E2  A1BG  A1CF     A2BP1  A2LD1      A2ML1   A2M  A4GALT  A4GNT  \\\n",
       "cid                                                                          \n",
       "aab1     7.45   6.4   4.7 -1.000000    7.5   6.400000  14.3    10.6    8.8   \n",
       "aab4     8.10   5.8   5.7  1.100000    6.8   7.639954  14.0    10.2    5.6   \n",
       "aab6     7.20   6.4   3.0  7.577068    7.3  10.800000  13.1    10.1    0.2   \n",
       "aab8     8.00   5.8   5.1  7.728812    7.5   4.100000  13.8     8.6    3.2   \n",
       "aab9     7.65   6.7   4.4  0.100000    7.4   9.300000  14.6    10.1    5.7   \n",
       "\n",
       "rid       AAA1  ...  ZWINT  ZXDA  ZXDB  ZXDC    ZYG11A  ZYG11B   ZYX  ZZEF1  \\\n",
       "cid             ...                                                           \n",
       "aab1  1.000000  ...    8.6   6.2   9.0   9.9  7.600244     9.2  12.9   10.1   \n",
       "aab4 -1.200000  ...    8.8   5.8   8.5  10.0  7.639954     9.3  12.4    9.8   \n",
       "aab6  0.200000  ...    9.1   3.9   8.1  10.0 -0.800000     9.4  13.5    9.8   \n",
       "aab8 -0.100000  ...    8.9   5.2   8.5   9.7  1.900000     9.4  12.5    9.7   \n",
       "aab9  7.796027  ...    8.4   5.9   8.6   9.9  0.100000     9.3  13.0   10.1   \n",
       "\n",
       "rid   ZZZ3  psiTPTE22  \n",
       "cid                    \n",
       "aab1   9.3        5.5  \n",
       "aab4   8.9        4.5  \n",
       "aab6   9.2        4.7  \n",
       "aab8   9.3        6.4  \n",
       "aab9   9.2        4.9  \n",
       "\n",
       "[5 rows x 18465 columns]"
      ]
     },
     "execution_count": 41,
     "metadata": {},
     "output_type": "execute_result"
    }
   ],
   "source": [
    "participant_id = columns_data.participant_id\n",
    "target_variable = columns_data.sample_type\n",
    "col_meta_data = columns_data.set_index('participant_id')\n",
    "imputed_my_data = imputed_my_data.rename(columns=participant_id).T\n",
    "imputed_my_data.head()"
   ]
  },
  {
   "cell_type": "code",
   "execution_count": 42,
   "metadata": {},
   "outputs": [],
   "source": [
    "col_to_merge = ['sample_type', 'mRNAseq_cluster','adenocarcinoma_invasion', 'vital_status', 'maximum_tumor_dimension', 'pathologic_stage', 'pathologic_m', 'pathologic_n', 'pathologic_t']\n",
    "\n",
    "#Join with the genes data\n",
    "imputed_my_data = imputed_my_data.join(col_meta_data[col_to_merge])"
   ]
  },
  {
   "cell_type": "code",
   "execution_count": 43,
   "metadata": {},
   "outputs": [
    {
     "data": {
      "text/html": [
       "<div>\n",
       "<style scoped>\n",
       "    .dataframe tbody tr th:only-of-type {\n",
       "        vertical-align: middle;\n",
       "    }\n",
       "\n",
       "    .dataframe tbody tr th {\n",
       "        vertical-align: top;\n",
       "    }\n",
       "\n",
       "    .dataframe thead th {\n",
       "        text-align: right;\n",
       "    }\n",
       "</style>\n",
       "<table border=\"1\" class=\"dataframe\">\n",
       "  <thead>\n",
       "    <tr style=\"text-align: right;\">\n",
       "      <th></th>\n",
       "      <th>SLC35E2</th>\n",
       "      <th>A1BG</th>\n",
       "      <th>A1CF</th>\n",
       "      <th>A2BP1</th>\n",
       "      <th>A2LD1</th>\n",
       "      <th>A2ML1</th>\n",
       "      <th>A2M</th>\n",
       "      <th>A4GALT</th>\n",
       "      <th>A4GNT</th>\n",
       "      <th>AAA1</th>\n",
       "      <th>...</th>\n",
       "      <th>psiTPTE22</th>\n",
       "      <th>sample_type</th>\n",
       "      <th>mRNAseq_cluster</th>\n",
       "      <th>adenocarcinoma_invasion</th>\n",
       "      <th>vital_status</th>\n",
       "      <th>maximum_tumor_dimension</th>\n",
       "      <th>pathologic_stage</th>\n",
       "      <th>pathologic_m</th>\n",
       "      <th>pathologic_n</th>\n",
       "      <th>pathologic_t</th>\n",
       "    </tr>\n",
       "  </thead>\n",
       "  <tbody>\n",
       "    <tr>\n",
       "      <th>6879</th>\n",
       "      <td>7.85</td>\n",
       "      <td>4.5</td>\n",
       "      <td>7.3</td>\n",
       "      <td>-0.8</td>\n",
       "      <td>6.3</td>\n",
       "      <td>7.404233</td>\n",
       "      <td>12.9</td>\n",
       "      <td>7.3</td>\n",
       "      <td>4.500000</td>\n",
       "      <td>2.60000</td>\n",
       "      <td>...</td>\n",
       "      <td>5.2</td>\n",
       "      <td>Primary solid Tumor</td>\n",
       "      <td>1.0</td>\n",
       "      <td>yes</td>\n",
       "      <td>dead</td>\n",
       "      <td>4.5</td>\n",
       "      <td>stage iib</td>\n",
       "      <td>m0</td>\n",
       "      <td>n1</td>\n",
       "      <td>t3</td>\n",
       "    </tr>\n",
       "    <tr>\n",
       "      <th>6880</th>\n",
       "      <td>9.10</td>\n",
       "      <td>6.2</td>\n",
       "      <td>7.5</td>\n",
       "      <td>0.3</td>\n",
       "      <td>8.9</td>\n",
       "      <td>0.300000</td>\n",
       "      <td>14.1</td>\n",
       "      <td>8.0</td>\n",
       "      <td>6.700000</td>\n",
       "      <td>7.74261</td>\n",
       "      <td>...</td>\n",
       "      <td>6.3</td>\n",
       "      <td>Primary solid Tumor</td>\n",
       "      <td>4.0</td>\n",
       "      <td>yes</td>\n",
       "      <td>alive</td>\n",
       "      <td>2.2</td>\n",
       "      <td>stage iib</td>\n",
       "      <td>m0</td>\n",
       "      <td>n1</td>\n",
       "      <td>t3</td>\n",
       "    </tr>\n",
       "    <tr>\n",
       "      <th>7273</th>\n",
       "      <td>8.20</td>\n",
       "      <td>6.3</td>\n",
       "      <td>7.7</td>\n",
       "      <td>2.2</td>\n",
       "      <td>5.9</td>\n",
       "      <td>-0.300000</td>\n",
       "      <td>15.6</td>\n",
       "      <td>9.1</td>\n",
       "      <td>3.400000</td>\n",
       "      <td>0.70000</td>\n",
       "      <td>...</td>\n",
       "      <td>7.3</td>\n",
       "      <td>Primary solid Tumor</td>\n",
       "      <td>4.0</td>\n",
       "      <td>yes</td>\n",
       "      <td>dead</td>\n",
       "      <td>4.2</td>\n",
       "      <td>stage iib</td>\n",
       "      <td>m0</td>\n",
       "      <td>n1</td>\n",
       "      <td>t3</td>\n",
       "    </tr>\n",
       "    <tr>\n",
       "      <th>7276</th>\n",
       "      <td>8.45</td>\n",
       "      <td>5.8</td>\n",
       "      <td>5.8</td>\n",
       "      <td>1.4</td>\n",
       "      <td>6.2</td>\n",
       "      <td>-1.600000</td>\n",
       "      <td>14.8</td>\n",
       "      <td>9.1</td>\n",
       "      <td>5.000000</td>\n",
       "      <td>-1.60000</td>\n",
       "      <td>...</td>\n",
       "      <td>5.3</td>\n",
       "      <td>Primary solid Tumor</td>\n",
       "      <td>4.0</td>\n",
       "      <td>yes</td>\n",
       "      <td>dead</td>\n",
       "      <td>5.5</td>\n",
       "      <td>stage iib</td>\n",
       "      <td>m0</td>\n",
       "      <td>n1</td>\n",
       "      <td>t3</td>\n",
       "    </tr>\n",
       "    <tr>\n",
       "      <th>7289</th>\n",
       "      <td>8.00</td>\n",
       "      <td>5.2</td>\n",
       "      <td>8.2</td>\n",
       "      <td>3.2</td>\n",
       "      <td>6.3</td>\n",
       "      <td>7.305909</td>\n",
       "      <td>10.1</td>\n",
       "      <td>10.0</td>\n",
       "      <td>7.305909</td>\n",
       "      <td>-0.90000</td>\n",
       "      <td>...</td>\n",
       "      <td>-0.9</td>\n",
       "      <td>Primary solid Tumor</td>\n",
       "      <td>1.0</td>\n",
       "      <td>yes</td>\n",
       "      <td>dead</td>\n",
       "      <td>4.5</td>\n",
       "      <td>stage iib</td>\n",
       "      <td>mx</td>\n",
       "      <td>n1</td>\n",
       "      <td>t3</td>\n",
       "    </tr>\n",
       "  </tbody>\n",
       "</table>\n",
       "<p>5 rows × 18474 columns</p>\n",
       "</div>"
      ],
      "text/plain": [
       "      SLC35E2  A1BG  A1CF  A2BP1  A2LD1     A2ML1   A2M  A4GALT     A4GNT  \\\n",
       "6879     7.85   4.5   7.3   -0.8    6.3  7.404233  12.9     7.3  4.500000   \n",
       "6880     9.10   6.2   7.5    0.3    8.9  0.300000  14.1     8.0  6.700000   \n",
       "7273     8.20   6.3   7.7    2.2    5.9 -0.300000  15.6     9.1  3.400000   \n",
       "7276     8.45   5.8   5.8    1.4    6.2 -1.600000  14.8     9.1  5.000000   \n",
       "7289     8.00   5.2   8.2    3.2    6.3  7.305909  10.1    10.0  7.305909   \n",
       "\n",
       "         AAA1  ...  psiTPTE22          sample_type  mRNAseq_cluster  \\\n",
       "6879  2.60000  ...        5.2  Primary solid Tumor              1.0   \n",
       "6880  7.74261  ...        6.3  Primary solid Tumor              4.0   \n",
       "7273  0.70000  ...        7.3  Primary solid Tumor              4.0   \n",
       "7276 -1.60000  ...        5.3  Primary solid Tumor              4.0   \n",
       "7289 -0.90000  ...       -0.9  Primary solid Tumor              1.0   \n",
       "\n",
       "      adenocarcinoma_invasion  vital_status  maximum_tumor_dimension  \\\n",
       "6879                      yes          dead                      4.5   \n",
       "6880                      yes         alive                      2.2   \n",
       "7273                      yes          dead                      4.2   \n",
       "7276                      yes          dead                      5.5   \n",
       "7289                      yes          dead                      4.5   \n",
       "\n",
       "      pathologic_stage  pathologic_m  pathologic_n  pathologic_t  \n",
       "6879         stage iib            m0            n1            t3  \n",
       "6880         stage iib            m0            n1            t3  \n",
       "7273         stage iib            m0            n1            t3  \n",
       "7276         stage iib            m0            n1            t3  \n",
       "7289         stage iib            mx            n1            t3  \n",
       "\n",
       "[5 rows x 18474 columns]"
      ]
     },
     "execution_count": 43,
     "metadata": {},
     "output_type": "execute_result"
    }
   ],
   "source": [
    "imputed_my_data.head()"
   ]
  },
  {
   "cell_type": "code",
   "execution_count": 44,
   "metadata": {},
   "outputs": [],
   "source": [
    "def cat_to_numeric(x):\n",
    "    if x=='Solid Tissue Normal':\n",
    "        return 0\n",
    "    elif x=='Primary solid Tumor':\n",
    "        return 1\n",
    "    else:\n",
    "        return 2\n",
    "target_variable = target_variable.map(lambda x: cat_to_numeric(x))"
   ]
  },
  {
   "cell_type": "code",
   "execution_count": 45,
   "metadata": {},
   "outputs": [
    {
     "name": "stdout",
     "output_type": "stream",
     "text": [
      "Total 5 columns have missing value, and Total 30 missing values in dataset\n"
     ]
    },
    {
     "data": {
      "text/plain": [
       "<matplotlib.axes._subplots.AxesSubplot at 0x8c2628a668>"
      ]
     },
     "execution_count": 45,
     "metadata": {},
     "output_type": "execute_result"
    },
    {
     "data": {
      "image/png": "[encoded data removed]",
      "text/plain": [
       "<Figure size 576x288 with 1 Axes>"
      ]
     },
     "metadata": {
      "needs_background": "light"
     },
     "output_type": "display_data"
    }
   ],
   "source": [
    "# Number of missing values in each column of columns_data\n",
    "missing_val_count = (imputed_my_data.isnull().sum()).sort_values(ascending=False)\n",
    "Total_columns_missing_value = missing_val_count[missing_val_count > 0]\n",
    "\n",
    "print(f\"Total {len(Total_columns_missing_value)} columns have missing value, and\",\n",
    "      f\"Total {Total_columns_missing_value.sum()} missing values in dataset\")\n",
    "plt.figure(figsize=(8, 4))\n",
    "sns.countplot(data=Total_columns_missing_value, y= Total_columns_missing_value)"
   ]
  },
  {
   "cell_type": "code",
   "execution_count": 46,
   "metadata": {},
   "outputs": [
    {
     "name": "stdout",
     "output_type": "stream",
     "text": [
      "The column mRNAseq_cluster has 10 null values. It is 5.18% of total rows.\n",
      "The column mRNAseq_cluster is of type float64.\n",
      "\n",
      "The column mRNAseq_cluster has removed 10 null values\n",
      "The column maximum_tumor_dimension has 16 null values. It is 8.29% of total rows.\n",
      "The column maximum_tumor_dimension is of type float64.\n",
      "\n",
      "The column maximum_tumor_dimension has removed 16 null values\n",
      "The DataFrame has 2 columns with null values. It is 0.01% of total columns.\n"
     ]
    },
    {
     "name": "stderr",
     "output_type": "stream",
     "text": [
      "C:\\Users\\Kedar\\Anaconda3\\lib\\site-packages\\pandas\\core\\frame.py:2963: SettingWithCopyWarning: \n",
      "A value is trying to be set on a copy of a slice from a DataFrame.\n",
      "Try using .loc[row_indexer,col_indexer] = value instead\n",
      "\n",
      "See the caveats in the documentation: https://pandas.pydata.org/pandas-docs/stable/user_guide/indexing.html#returning-a-view-versus-a-copy\n",
      "  self[k1] = value[k2]\n"
     ]
    }
   ],
   "source": [
    "def remove_nulls(df):\n",
    "\n",
    "    rows = df.shape[0]\n",
    "    columns = df.shape[1]\n",
    "    null_cols = 0\n",
    "    list_of_nulls_cols = []\n",
    "    for col in list(df.columns):\n",
    "        null_values_rows = df[col].isnull().sum()\n",
    "        null_rows_pcn = round(((null_values_rows)/rows)*100, 2)\n",
    "        col_type = df[col].dtype\n",
    "        if null_values_rows > 0:\n",
    "            print(\"The column {} has {} null values. It is {}% of total rows.\".format(col, null_values_rows, null_rows_pcn))\n",
    "            print(\"The column {} is of type {}.\\n\".format(col, col_type))\n",
    "            null_cols += 1\n",
    "            list_of_nulls_cols.append(col)\n",
    "            df[[col]] = df[[col]].apply(lambda x: x.fillna(method='backfill'))\n",
    "            print(f\"The column {col} has removed {null_values_rows} null values\")\n",
    "    null_cols_pcn = round((null_cols/columns)*100, 2)\n",
    "    print(\"The DataFrame has {} columns with null values. It is {}% of total columns.\".format(null_cols, null_cols_pcn))\n",
    "    return df\n",
    "\n",
    "my_data = remove_nulls(imputed_my_data.select_dtypes(exclude='object'))\n"
   ]
  },
  {
   "cell_type": "code",
   "execution_count": 47,
   "metadata": {},
   "outputs": [
    {
     "data": {
      "text/plain": [
       "30"
      ]
     },
     "execution_count": 47,
     "metadata": {},
     "output_type": "execute_result"
    }
   ],
   "source": [
    "imputed_my_data.isnull().sum().sum()"
   ]
  },
  {
   "cell_type": "code",
   "execution_count": 48,
   "metadata": {},
   "outputs": [],
   "source": [
    "from sklearn.preprocessing import StandardScaler\n",
    "X_std = StandardScaler().fit_transform(imputed_my_data.drop(columns=col_to_merge))\n",
    "\n",
    "from sklearn.decomposition import PCA as sklearnPCA\n",
    "n_components = 100\n",
    "sklearn_pca = sklearnPCA(n_components=n_components)\n",
    "Y_sklearn = sklearn_pca.fit_transform(X_std)"
   ]
  },
  {
   "cell_type": "code",
   "execution_count": 49,
   "metadata": {},
   "outputs": [
    {
     "data": {
      "text/plain": [
       "(193, 18465)"
      ]
     },
     "execution_count": 49,
     "metadata": {},
     "output_type": "execute_result"
    }
   ],
   "source": [
    "X_std.shape"
   ]
  },
  {
   "cell_type": "markdown",
   "metadata": {},
   "source": [
    "# Variance of the PCA"
   ]
  },
  {
   "cell_type": "code",
   "execution_count": 50,
   "metadata": {
    "scrolled": true
   },
   "outputs": [
    {
     "data": {
      "image/png": "[encoded data removed]",
      "text/plain": [
       "<Figure size 720x720 with 1 Axes>"
      ]
     },
     "metadata": {
      "needs_background": "light"
     },
     "output_type": "display_data"
    }
   ],
   "source": [
    "cum_sum = sklearn_pca.explained_variance_ratio_.cumsum()\n",
    "\n",
    "explained_var = round(sklearn_pca.explained_variance_ratio_.sum()*100, 2)\n",
    "\n",
    "cum_sum = cum_sum*100\n",
    "\n",
    "fig, ax = plt.subplots(figsize=(10,10))\n",
    "plt.bar(range(n_components), cum_sum, label='Cumulative _Sum_of_Explained _Varaince', color = 'b',alpha=0.5)\n",
    "plt.title(f\"Around {explained_var}% of variance is explained by the Fisrt {n_components} principle component \");"
   ]
  },
  {
   "cell_type": "markdown",
   "metadata": {},
   "source": [
    "# Visualize the data whole data using PCA."
   ]
  },
  {
   "cell_type": "code",
   "execution_count": 51,
   "metadata": {},
   "outputs": [
    {
     "data": {
      "text/plain": [
       "[]"
      ]
     },
     "execution_count": 51,
     "metadata": {},
     "output_type": "execute_result"
    },
    {
     "data": {
      "image/png": "[encoded data removed]",
      "text/plain": [
       "<Figure size 432x288 with 1 Axes>"
      ]
     },
     "metadata": {
      "needs_background": "light"
     },
     "output_type": "display_data"
    }
   ],
   "source": [
    "from sklearn.decomposition import PCA as sklearnPCA\n",
    "sklearn_pca = sklearnPCA(n_components=3)\n",
    "X_reduced  = sklearn_pca.fit_transform(X_std)\n",
    "Y=target_variable\n",
    "from mpl_toolkits.mplot3d import Axes3D\n",
    "plt.clf()\n",
    "fig = plt.figure(1, figsize=(10,6 ))\n",
    "ax = Axes3D(fig, elev=-150, azim=110,)\n",
    "ax.scatter(X_reduced[:, 0], X_reduced[:, 1], X_reduced[:, 2],cmap=plt.cm.Paired,linewidths=10)\n",
    "ax.set_title(\"First three PCA directions\")\n",
    "ax.set_xlabel(\"1st eigenvector\")\n",
    "ax.w_xaxis.set_ticklabels([])\n",
    "ax.set_ylabel(\"2nd eigenvector\")\n",
    "ax.w_yaxis.set_ticklabels([])\n",
    "ax.set_zlabel(\"3rd eigenvector\")\n",
    "ax.w_zaxis.set_ticklabels([])"
   ]
  },
  {
   "cell_type": "markdown",
   "metadata": {},
   "source": [
    "# Adenocarcinoma Tumor"
   ]
  },
  {
   "cell_type": "code",
   "execution_count": 52,
   "metadata": {
    "scrolled": true
   },
   "outputs": [
    {
     "data": {
      "text/plain": [
       "Text(0.5, 1.0, 'This The 2D Transformation of above graph ')"
      ]
     },
     "execution_count": 52,
     "metadata": {},
     "output_type": "execute_result"
    },
    {
     "data": {
      "image/png": "[encoded data removed]",
      "text/plain": [
       "<Figure size 720x432 with 1 Axes>"
      ]
     },
     "metadata": {
      "needs_background": "light"
     },
     "output_type": "display_data"
    }
   ],
   "source": [
    "fig = plt.figure(1, figsize=(10,6))\n",
    "sns.scatterplot(X_reduced[:, 0],  X_reduced[:, 1],hue=imputed_my_data['sample_type'])\n",
    "plt.title(\"This The 2D Transformation of above graph \")"
   ]
  },
  {
   "cell_type": "code",
   "execution_count": 53,
   "metadata": {},
   "outputs": [
    {
     "data": {
      "text/plain": [
       "(192, 18474)"
      ]
     },
     "execution_count": 53,
     "metadata": {},
     "output_type": "execute_result"
    }
   ],
   "source": [
    "imputed_my_data = imputed_my_data[imputed_my_data['adenocarcinoma_invasion']=='yes']\n",
    "imputed_my_data.shape"
   ]
  },
  {
   "cell_type": "code",
   "execution_count": 54,
   "metadata": {},
   "outputs": [
    {
     "data": {
      "text/html": [
       "<div>\n",
       "<style scoped>\n",
       "    .dataframe tbody tr th:only-of-type {\n",
       "        vertical-align: middle;\n",
       "    }\n",
       "\n",
       "    .dataframe tbody tr th {\n",
       "        vertical-align: top;\n",
       "    }\n",
       "\n",
       "    .dataframe thead th {\n",
       "        text-align: right;\n",
       "    }\n",
       "</style>\n",
       "<table border=\"1\" class=\"dataframe\">\n",
       "  <thead>\n",
       "    <tr style=\"text-align: right;\">\n",
       "      <th></th>\n",
       "      <th>member</th>\n",
       "    </tr>\n",
       "  </thead>\n",
       "  <tbody>\n",
       "    <tr>\n",
       "      <th>0</th>\n",
       "      <td>IFIT1</td>\n",
       "    </tr>\n",
       "    <tr>\n",
       "      <th>1</th>\n",
       "      <td>IFI44</td>\n",
       "    </tr>\n",
       "    <tr>\n",
       "      <th>2</th>\n",
       "      <td>IFIT3</td>\n",
       "    </tr>\n",
       "    <tr>\n",
       "      <th>3</th>\n",
       "      <td>MX2</td>\n",
       "    </tr>\n",
       "    <tr>\n",
       "      <th>4</th>\n",
       "      <td>OAS1</td>\n",
       "    </tr>\n",
       "  </tbody>\n",
       "</table>\n",
       "</div>"
      ],
      "text/plain": [
       "  member\n",
       "0  IFIT1\n",
       "1  IFI44\n",
       "2  IFIT3\n",
       "3    MX2\n",
       "4   OAS1"
      ]
     },
     "execution_count": 54,
     "metadata": {},
     "output_type": "execute_result"
    }
   ],
   "source": [
    "ifn_sig = pd.read_csv('type1_IFN.txt', header=None)\n",
    "ifn_sig.columns = ['member']\n",
    "ifn_sig.head()"
   ]
  },
  {
   "cell_type": "code",
   "execution_count": 55,
   "metadata": {},
   "outputs": [
    {
     "data": {
      "text/plain": [
       "(192, 25)"
      ]
     },
     "execution_count": 55,
     "metadata": {},
     "output_type": "execute_result"
    }
   ],
   "source": [
    "ifn_sig_data = imputed_my_data[ifn_sig['member'].to_list()]\n",
    "ifn_sig_data.shape"
   ]
  },
  {
   "cell_type": "code",
   "execution_count": 56,
   "metadata": {},
   "outputs": [
    {
     "data": {
      "text/plain": [
       "<matplotlib.axes._subplots.AxesSubplot at 0x8c1f33da90>"
      ]
     },
     "execution_count": 56,
     "metadata": {},
     "output_type": "execute_result"
    },
    {
     "data": {
      "image/png": "[encoded data removed]",
      "text/plain": [
       "<Figure size 720x432 with 1 Axes>"
      ]
     },
     "metadata": {
      "needs_background": "light"
     },
     "output_type": "display_data"
    }
   ],
   "source": [
    "X_std = StandardScaler().fit_transform(ifn_sig_data)\n",
    "n_components = 2\n",
    "sklearn_pca = sklearnPCA(n_components=n_components)\n",
    "X_reduced  = sklearn_pca.fit_transform(X_std)\n",
    "fig = plt.figure(1, figsize=(10,6))\n",
    "sns.scatterplot(X_reduced[:, 0],  X_reduced[:, 1],hue=imputed_my_data['sample_type'])"
   ]
  },
  {
   "cell_type": "markdown",
   "metadata": {},
   "source": [
    "# GSVA"
   ]
  },
  {
   "cell_type": "code",
   "execution_count": 57,
   "metadata": {
    "scrolled": true
   },
   "outputs": [],
   "source": [
    "from GSVA import gsva\n",
    "from plotnine import *\n",
    "from sklearn.manifold import TSNE"
   ]
  },
  {
   "cell_type": "code",
   "execution_count": 59,
   "metadata": {},
   "outputs": [
    {
     "data": {
      "image/png": "[encoded data removed]",
      "text/plain": [
       "<Figure size 640x480 with 1 Axes>"
      ]
     },
     "metadata": {},
     "output_type": "display_data"
    },
    {
     "data": {
      "text/plain": [
       "<ggplot: (37630139028)>"
      ]
     },
     "execution_count": 59,
     "metadata": {},
     "output_type": "execute_result"
    }
   ],
   "source": [
    "XV = TSNE(n_components=2).\\\n",
    "    fit_transform(ifn_sig_data.T)\n",
    "df = pd.DataFrame(XV).rename(columns={0:'x',1:'y'})\n",
    "(ggplot(df,aes(x='x',y='y'))\n",
    " + geom_point(alpha=0.2)\n",
    ")"
   ]
  },
  {
   "cell_type": "code",
   "execution_count": 68,
   "metadata": {},
   "outputs": [
    {
     "data": {
      "text/plain": [
       "array(['invasive adenocarcinoma', 'invasive, well-differentiated', nan,\n",
       "       'poorly differentiated adenocarcinoma', 'neuroendocrine',\n",
       "       'neuroendocrine carcinoma nos',\n",
       "       '82463 neuroendocrine carcinoma nos', 'neuroendocrine carcinoma',\n",
       "       'adenocarcinoma, nos',\n",
       "       'poorly differentiated pancreatic adenocarcinoma', 'not specified',\n",
       "       'intraductal tubulopapillary neoplasm',\n",
       "       'ductal and micropapillary', 'adenocarcinoma- nos',\n",
       "       'moderately differentiated ductal adenocarcinoma 60% + neuroendocrine 40%'],\n",
       "      dtype=object)"
      ]
     },
     "execution_count": 68,
     "metadata": {},
     "output_type": "execute_result"
    }
   ],
   "source": [
    "columns_data.histological_type_other.unique()"
   ]
  },
  {
   "cell_type": "code",
   "execution_count": 71,
   "metadata": {},
   "outputs": [
    {
     "data": {
      "text/plain": [
       "<bound method Series.unique of cid\n",
       "aab1-Primary solid Tumor    yes\n",
       "aab4-Primary solid Tumor    yes\n",
       "aab6-Primary solid Tumor    yes\n",
       "aab8-Primary solid Tumor    yes\n",
       "aab9-Primary solid Tumor    yes\n",
       "                           ... \n",
       "a89d-Solid Tissue Normal    yes\n",
       "a89d-Primary solid Tumor    yes\n",
       "a8sy-Primary solid Tumor    yes\n",
       "a8lh-Primary solid Tumor    yes\n",
       "aapl-Primary solid Tumor    yes\n",
       "Name: adenocarcinoma_invasion, Length: 183, dtype: object>"
      ]
     },
     "execution_count": 71,
     "metadata": {},
     "output_type": "execute_result"
    }
   ],
   "source": [
    "columns_data.adenocarcinoma_invasion.unique"
   ]
  },
  {
   "cell_type": "code",
   "execution_count": 75,
   "metadata": {},
   "outputs": [
    {
     "ename": "AttributeError",
     "evalue": "'AxesSubplot' object has no attribute 'T'",
     "output_type": "error",
     "traceback": [
      "\u001b[1;31m---------------------------------------------------------------------------\u001b[0m",
      "\u001b[1;31mAttributeError\u001b[0m                            Traceback (most recent call last)",
      "\u001b[1;32m<ipython-input-75-55fa7c1323e6>\u001b[0m in \u001b[0;36m<module>\u001b[1;34m\u001b[0m\n\u001b[0;32m      1\u001b[0m \u001b[0mpathologic_stage_group\u001b[0m \u001b[1;33m=\u001b[0m \u001b[0mcolumns_data\u001b[0m\u001b[1;33m.\u001b[0m\u001b[0mgroupby\u001b[0m\u001b[1;33m(\u001b[0m\u001b[1;33m[\u001b[0m\u001b[1;34m'adenocarcinoma_invasion'\u001b[0m\u001b[1;33m,\u001b[0m \u001b[1;34m'histological_type_other'\u001b[0m\u001b[1;33m]\u001b[0m\u001b[1;33m)\u001b[0m\u001b[1;33m[\u001b[0m\u001b[1;34m'histological_type_other'\u001b[0m\u001b[1;33m]\u001b[0m\u001b[1;33m.\u001b[0m\u001b[0mcount\u001b[0m\u001b[1;33m(\u001b[0m\u001b[1;33m)\u001b[0m\u001b[1;33m.\u001b[0m\u001b[0mreset_index\u001b[0m\u001b[1;33m(\u001b[0m\u001b[0mname\u001b[0m\u001b[1;33m=\u001b[0m\u001b[1;34m'counts'\u001b[0m\u001b[1;33m)\u001b[0m\u001b[1;33m\u001b[0m\u001b[1;33m\u001b[0m\u001b[0m\n\u001b[0;32m      2\u001b[0m \u001b[0mplt\u001b[0m\u001b[1;33m.\u001b[0m\u001b[0mfigure\u001b[0m\u001b[1;33m(\u001b[0m\u001b[0mfigsize\u001b[0m\u001b[1;33m=\u001b[0m\u001b[1;33m(\u001b[0m\u001b[1;36m30\u001b[0m\u001b[1;33m,\u001b[0m \u001b[1;36m5\u001b[0m\u001b[1;33m)\u001b[0m\u001b[1;33m)\u001b[0m\u001b[1;33m\u001b[0m\u001b[1;33m\u001b[0m\u001b[0m\n\u001b[1;32m----> 3\u001b[1;33m \u001b[0msns\u001b[0m\u001b[1;33m.\u001b[0m\u001b[0mbarplot\u001b[0m\u001b[1;33m(\u001b[0m\u001b[0mx\u001b[0m\u001b[1;33m=\u001b[0m\u001b[1;34m'adenocarcinoma_invasion'\u001b[0m\u001b[1;33m,\u001b[0m \u001b[0my\u001b[0m\u001b[1;33m=\u001b[0m\u001b[1;34m'counts'\u001b[0m\u001b[1;33m,\u001b[0m \u001b[0mhue\u001b[0m\u001b[1;33m=\u001b[0m\u001b[1;34m'histological_type_other'\u001b[0m\u001b[1;33m,\u001b[0m \u001b[0mdata\u001b[0m\u001b[1;33m=\u001b[0m\u001b[0mpathologic_stage_group\u001b[0m\u001b[1;33m)\u001b[0m\u001b[1;33m.\u001b[0m\u001b[0mT\u001b[0m\u001b[1;33m\u001b[0m\u001b[1;33m\u001b[0m\u001b[0m\n\u001b[0m",
      "\u001b[1;31mAttributeError\u001b[0m: 'AxesSubplot' object has no attribute 'T'"
     ]
    },
    {
     "data": {
      "image/png": "[encoded data removed]",
      "text/plain": [
       "<Figure size 2160x360 with 1 Axes>"
      ]
     },
     "metadata": {
      "needs_background": "light"
     },
     "output_type": "display_data"
    }
   ],
   "source": [
    "pathologic_stage_group = columns_data.groupby(['adenocarcinoma_invasion', 'histological_type_other'])['histological_type_other'].count().reset_index(name='counts')\n",
    "plt.figure(figsize=(30, 5))\n",
    "sns.barplot(x='adenocarcinoma_invasion', y='counts', hue='histological_type_other', data=pathologic_stage_group).T"
   ]
  },
  {
   "cell_type": "code",
   "execution_count": null,
   "metadata": {},
   "outputs": [],
   "source": [
    "# Yes, the neuroendocrine tumors clearly separable from the adenocarcinoma tumors."
   ]
  }
 ],
 "metadata": {
  "kernelspec": {
   "display_name": "Python 3",
   "language": "python",
   "name": "python3"
  },
  "language_info": {
   "codemirror_mode": {
    "name": "ipython",
    "version": 3
   },
   "file_extension": ".py",
   "mimetype": "text/x-python",
   "name": "python",
   "nbconvert_exporter": "python",
   "pygments_lexer": "ipython3",
   "version": "3.6.10"
  }
 },
 "nbformat": 4,
 "nbformat_minor": 2
}
